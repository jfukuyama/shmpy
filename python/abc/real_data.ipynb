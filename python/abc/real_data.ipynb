{
 "cells": [
  {
   "cell_type": "code",
   "execution_count": 2,
   "metadata": {},
   "outputs": [],
   "source": [
    "# Load our stuff\n",
    "import numpy as np\n",
    "from Bio import SeqIO\n",
    "from SHMModels.simulate_mutations import *\n",
    "from SHMModels.fitted_models import ContextModel\n",
    "import pkgutil\n",
    "import logging\n",
    "import os\n",
    "import sys\n",
    "import json\n",
    "import random\n",
    "import matplotlib.pyplot as plt\n",
    "from scipy.stats import norm\n",
    "random.seed(1408)\n",
    "import csv\n",
    "from scipy.stats import ttest_1samp\n",
    "import pandas as pd\n",
    "import collections\n",
    "# Load options\n",
    "\n",
    "germline_sequence = \"data/gpt.fasta\"\n",
    "germline =list(SeqIO.parse(germline_sequence, \"fasta\"))[0].seq\n",
    "\n",
    "cm = ContextModel(3, 2, pkgutil.get_data(\"SHMModels\", \"data/aid_goodman.csv\"))\n",
    "\n",
    "pol_eta_params = {\n",
    "            \"A\": [0.9, 0.02, 0.02, 0.06],\n",
    "            \"G\": [0.01, 0.97, 0.01, 0.01],\n",
    "            \"C\": [0.01, 0.01, 0.97, 0.01],\n",
    "            \"T\": [0.06, 0.02, 0.02, 0.9],\n",
    "        }\n",
    "ber_params = np.array([0.25,0.25,0.25,0.25])\n"
   ]
  },
  {
   "cell_type": "code",
   "execution_count": 3,
   "metadata": {},
   "outputs": [
    {
     "data": {
      "text/plain": [
       "<matplotlib.collections.PathCollection at 0x1cea66bf8e0>"
      ]
     },
     "execution_count": 3,
     "metadata": {},
     "output_type": "execute_result"
    },
    {
     "data": {
      "image/png": "[encoded data removed]",
      "text/plain": [
       "<Figure size 432x288 with 1 Axes>"
      ]
     },
     "metadata": {
      "needs_background": "light"
     },
     "output_type": "display_data"
    }
   ],
   "source": [
    "fw_contexts = np.zeros(308)\n",
    "for i in range(308):\n",
    "    fw_contexts[i] = cm.get_context_prob(i,germline)\n",
    "plt.scatter(range(308),fw_contexts)\n"
   ]
  },
  {
   "cell_type": "code",
   "execution_count": 4,
   "metadata": {},
   "outputs": [
    {
     "data": {
      "text/plain": [
       "<matplotlib.collections.PathCollection at 0x1cf0b5aec10>"
      ]
     },
     "execution_count": 4,
     "metadata": {},
     "output_type": "execute_result"
    },
    {
     "data": {
      "image/png": "[encoded data removed]",
      "text/plain": [
       "<Figure size 432x288 with 1 Axes>"
      ]
     },
     "metadata": {
      "needs_background": "light"
     },
     "output_type": "display_data"
    }
   ],
   "source": [
    "rc_contexts = np.zeros(308)\n",
    "for i in range(308):\n",
    "    rc_contexts[i] = cm.get_context_prob(i,germline.complement())\n",
    "plt.scatter(range(308),rc_contexts)"
   ]
  },
  {
   "cell_type": "code",
   "execution_count": 5,
   "metadata": {},
   "outputs": [],
   "source": [
    "subset = []\n",
    "with open('subset.csv') as csv_file:\n",
    "    csv_reader = csv.reader(csv_file, delimiter=',')\n",
    "    line_count = 0\n",
    "    for row in csv_reader:\n",
    "        subset.append(row)\n"
   ]
  },
  {
   "cell_type": "code",
   "execution_count": 6,
   "metadata": {},
   "outputs": [],
   "source": [
    "subset = subset[1:309]\n",
    "seqs = []\n",
    "for i in range(2242):\n",
    "    seqs.append([k[i+1] for k in subset])\n",
    "seqs = np.array(seqs)"
   ]
  },
  {
   "cell_type": "code",
   "execution_count": 7,
   "metadata": {},
   "outputs": [],
   "source": [
    "inds = np.array([i=='C' or i == 'G' for i in germline])"
   ]
  },
  {
   "cell_type": "code",
   "execution_count": 8,
   "metadata": {},
   "outputs": [],
   "source": [
    "mut_list = []\n",
    "germ_mut_list = []\n",
    "for i in range(2242):\n",
    "    for j in range(308):\n",
    "        if germline[j] != seqs[i,j]:\n",
    "            mut_list.append(germline[j]+seqs[i,j])\n",
    "            germ_mut_list.append(germline[j])"
   ]
  },
  {
   "cell_type": "code",
   "execution_count": 9,
   "metadata": {},
   "outputs": [],
   "source": [
    "counter = collections.Counter(mut_list)"
   ]
  },
  {
   "cell_type": "code",
   "execution_count": 10,
   "metadata": {},
   "outputs": [
    {
     "data": {
      "text/plain": [
       "(array([0.12464169, 0.07562961, 0.04862817, 0.06142506, 0.12732903,\n",
       "        0.19758395, 0.06552007, 0.07409398, 0.04594083, 0.08829853]),\n",
       " array([ 0. ,  1.1,  2.2,  3.3,  4.4,  5.5,  6.6,  7.7,  8.8,  9.9, 11. ]),\n",
       " <BarContainer object of 10 artists>)"
      ]
     },
     "execution_count": 10,
     "metadata": {},
     "output_type": "execute_result"
    },
    {
     "data": {
      "image/png": "[encoded data removed]",
      "text/plain": [
       "<Figure size 432x288 with 1 Axes>"
      ]
     },
     "metadata": {
      "needs_background": "light"
     },
     "output_type": "display_data"
    }
   ],
   "source": [
    "plt.hist(sorted(mut_list),density = True)"
   ]
  },
  {
   "cell_type": "code",
   "execution_count": 11,
   "metadata": {},
   "outputs": [
    {
     "data": {
      "text/plain": [
       "(array([75.,  0.,  0., 70.,  0.,  0., 89.,  0.,  0., 74.]),\n",
       " array([0. , 0.3, 0.6, 0.9, 1.2, 1.5, 1.8, 2.1, 2.4, 2.7, 3. ]),\n",
       " <BarContainer object of 10 artists>)"
      ]
     },
     "execution_count": 11,
     "metadata": {},
     "output_type": "execute_result"
    },
    {
     "data": {
      "image/png": "[encoded data removed]",
      "text/plain": [
       "<Figure size 432x288 with 1 Axes>"
      ]
     },
     "metadata": {
      "needs_background": "light"
     },
     "output_type": "display_data"
    }
   ],
   "source": [
    "plt.hist(sorted(germline))"
   ]
  },
  {
   "cell_type": "code",
   "execution_count": 12,
   "metadata": {},
   "outputs": [
    {
     "data": {
      "text/plain": [
       "(array([1565.,    0.,    0., 1855.,    0.,    0., 2635.,    0.,    0.,\n",
       "        1049.]),\n",
       " array([0. , 0.3, 0.6, 0.9, 1.2, 1.5, 1.8, 2.1, 2.4, 2.7, 3. ]),\n",
       " <BarContainer object of 10 artists>)"
      ]
     },
     "execution_count": 12,
     "metadata": {},
     "output_type": "execute_result"
    },
    {
     "data": {
      "image/png": "[encoded data removed]",
      "text/plain": [
       "<Figure size 432x288 with 1 Axes>"
      ]
     },
     "metadata": {
      "needs_background": "light"
     },
     "output_type": "display_data"
    }
   ],
   "source": [
    "plt.hist(sorted(germ_mut_list))"
   ]
  },
  {
   "cell_type": "code",
   "execution_count": 13,
   "metadata": {},
   "outputs": [],
   "source": [
    "def sample_prior():\n",
    "    ls = np.random.uniform(low = -12.0, high = -2.0)\n",
    "    sg = np.random.uniform(low = 5.0, high = 20.0)\n",
    "    off = -10\n",
    "    p_fw = np.random.uniform(low =0.0, high = 1.0)\n",
    "    exo_left = np.random.uniform(low =0.0, high = 1.0)\n",
    "    exo_right = np.random.uniform(low =0.0, high = 1.0)\n",
    "    ber_prob = np.random.uniform(low = 0.0, high = 1.0)\n",
    "    thinning_prob = norm.cdf(10.0/sg)\n",
    "    fw_br = np.minimum(fw_contexts/(1.0-thinning_prob),1.0)\n",
    "    rc_br = np.minimum(rc_contexts/(1.0-thinning_prob),1.0)\n",
    "    return {           \"lengthscale\" : ls,\n",
    "                       \"gp_sigma\" : sg,\n",
    "                       \"gp_ridge\" : .01,\n",
    "            \"gp_offset\": off,\n",
    "            \"p_fw\": p_fw,\n",
    "            \"fw_br\": fw_br,\n",
    "            \"rc_br\": rc_br,\n",
    "            \"exo_left\": exo_left,\n",
    "            \"exo_right\": exo_right,\n",
    "            \"ber_prob\": ber_prob\n",
    "            }\n",
    "\n",
    "# Get batch\n",
    "def gen_batch_letters(seq,batch_size, params):\n",
    "       # The prior specification\n",
    "    ber_prob = params['ber_prob']\n",
    "    ber_params = [0.25,0.25,0.25,0.25]\n",
    "    \n",
    "    bubble_size = 25.0\n",
    "    pol_eta_params = {\n",
    "        \"A\": [0.9, 0.02, 0.02, 0.06],\n",
    "        \"G\": [0.01, 0.97, 0.01, 0.01],\n",
    "        \"C\": [0.01, 0.01, 0.97, 0.01],\n",
    "        \"T\": [0.06, 0.02, 0.02, 0.9],\n",
    "    }\n",
    "    prior_params = params\n",
    "    exo_left = prior_params['exo_left']\n",
    "    exo_right = prior_params['exo_right']\n",
    "    mutated_seq_list = []\n",
    "    for i in range(batch_size):\n",
    "          mr = MutationRound(\n",
    "          seq,\n",
    "          ber_lambda=1.0,\n",
    "          mmr_lambda=(1 - ber_prob)/ber_prob,\n",
    "          replication_time=100,\n",
    "          bubble_size=bubble_size,\n",
    "          aid_time=10,\n",
    "          exo_params={\"left\": exo_left, \"right\": exo_right},\n",
    "          pol_eta_params=pol_eta_params,\n",
    "          ber_params=ber_params,\n",
    "          p_fw= prior_params['p_fw'],\n",
    "          aid_context_model=cm,\n",
    "          log_ls = prior_params['lengthscale'],\n",
    "          sg = prior_params['gp_sigma'],\n",
    "          fw_br = prior_params['fw_br'],\n",
    "          rc_br = prior_params['rc_br'],\n",
    "          off = prior_params['gp_offset']\n",
    "          )\n",
    "          mr.mutation_round()\n",
    "          mutated_seq_list.append(SeqRecord(mr.repaired_sequence, id=\"\"))\n",
    "    return [list(i.seq) for i in mutated_seq_list]"
   ]
  },
  {
   "cell_type": "code",
   "execution_count": 14,
   "metadata": {},
   "outputs": [],
   "source": [
    "prior = sample_prior()\n",
    "thinning_prob = norm.cdf(10.0/prior['gp_sigma'])\n",
    "thinning_prob\n",
    "base_rates = np.minimum(fw_contexts/(1.0-thinning_prob),1.0)"
   ]
  },
  {
   "cell_type": "code",
   "execution_count": 15,
   "metadata": {},
   "outputs": [],
   "source": [
    "def site_dist_colocal(seqs,germline,base_probs,dist):\n",
    "    values = np.zeros(len(base_probs))\n",
    "    vars = np.zeros(len(base_probs))\n",
    "    for i in range(len(base_probs)-dist):\n",
    "        if base_probs[i]*base_probs[i+dist]>0:\n",
    "            p_1 = np.mean([z[i]!= germline[i] and z[i+dist]!=germline[i+dist] for z in seqs])\n",
    "            p_2 = base_probs[i]\n",
    "            p_3 = base_probs[i+dist]\n",
    "            values[i] = p_1/(p_2*p_3)\n",
    "            vars[i] = (1-p_2-p_3+p_2*p_3)/(len(seqs)*p_2*p_3)\n",
    "        else:\n",
    "            values[i] = 0.00\n",
    "            vars[i] = 0.0\n",
    "    return(values,vars)\n",
    "def get_colocal(seqs,germline,base_probs, max_dist):\n",
    "    colocals = np.zeros(max_dist)\n",
    "    for i in range(max_dist):\n",
    "        values,vars = site_dist_colocal(seqs,germline, base_probs, i+1)\n",
    "        colocals[i] = np.nansum(values[values>0.0]/np.sqrt(vars[values>0.0]))/np.sum(1/np.sqrt(vars[vars>0.0]))\n",
    "    return(colocals)\n",
    "\n",
    "def gauss_kernel(x,y,eps):\n",
    "    return np.exp(-(np.sum(np.square(x-y)))/(2*eps**2))"
   ]
  },
  {
   "cell_type": "code",
   "execution_count": 16,
   "metadata": {},
   "outputs": [],
   "source": [
    "def shortestDistance(S, X):\n",
    " \n",
    "    # Find distance from occurrences of X\n",
    "    # appearing before current character.\n",
    "    inf = float('inf')\n",
    "    prev = inf\n",
    "    ans = []\n",
    "    for i,j in enumerate(S):\n",
    "        if S[i] == X:\n",
    "            prev = i\n",
    "        if (prev == inf) :\n",
    "            ans.append(inf)\n",
    "        else :    \n",
    "            ans.append(i - prev)\n",
    " \n",
    " \n",
    "    # Find distance from occurrences of X\n",
    "    # appearing after current character and\n",
    "    # compare this distance with earlier.\n",
    "    prev = inf\n",
    "    for i in range(len(S) - 1, -1, -1):\n",
    "        if S[i] == X:\n",
    "            prev = i\n",
    "        if (X != inf):   \n",
    "            ans[i] = min(ans[i], prev - i)\n",
    " \n",
    "    # return array of distance\n",
    "    return ans\n",
    "\n",
    "def get_mmr_summ(seqs, germline):\n",
    "    mut_ind = [i != np.array(list(germline)) for i in seqs]\n",
    "    dists = np.minimum(shortestDistance(germline,'C'),shortestDistance(germline,'G'))\n",
    "    avg_d_num = 0\n",
    "    avg_d_deno = 0\n",
    "    for i in range(len(seqs)):\n",
    "        avg_d_deno += np.sum(mut_ind[i])\n",
    "        avg_d_num += np.sum(dists[mut_ind[i]])\n",
    "    c_mut_count = 0\n",
    "    g_mut_count = 0\n",
    "    for i in seqs:\n",
    "        c_mut_count += np.sum(np.logical_and(i != np.array(list(germline)),np.array([j == 'C' for j in germline])))\n",
    "        g_mut_count += np.sum(np.logical_and(i != np.array(list(germline)),np.array([j == 'G' for j in germline])))\n",
    "    return c_mut_count/(c_mut_count+g_mut_count), avg_d_num/avg_d_deno\n",
    "\n",
    "def importance_sample(obs_sequences,germline,n_imp_samp, n, eps):\n",
    "    \n",
    "    true_bp = (1.0-np.mean(obs_sequences == np.array(list(germline)), axis = 0))\n",
    "    mmr_stat = get_mmr_summ(obs_sequences, germline)\n",
    "    colocals = get_colocal(obs_sequences, germline,true_bp, 50)\n",
    "    base_colocal = np.append(colocals[0:50:5], np.mean(true_bp))\n",
    "    base_colocal = np.append(base_colocal, mmr_stat[0])\n",
    "    base_colocal = np.append(base_colocal, mmr_stat[1])\n",
    "    ls_list = []\n",
    "    w_list = []\n",
    "    sg_list = []\n",
    "    p_fw_list = []\n",
    "    el_list = []\n",
    "    er_list = []\n",
    "    p_ber_list = []\n",
    "    for i in range(n_imp_samp):\n",
    "        \n",
    "        model_params = sample_prior()\n",
    "        sample = gen_batch_letters(germline, n, model_params)\n",
    "        \n",
    "        sample_bp = (1.0-np.mean(sample == np.array(list(germline)), axis = 0))\n",
    "        \n",
    "        sample_colocals = get_colocal(sample,germline,sample_bp,50)\n",
    "        sample_mmr_stat = get_mmr_summ(sample, germline)\n",
    "        colocal = np.append(sample_colocals[0:50:5], np.mean(sample_bp))\n",
    "        colocal = np.append(colocal, sample_mmr_stat[0])\n",
    "        colocal = np.append(colocal, sample_mmr_stat[1])\n",
    "        w_list.append(gauss_kernel(colocal, base_colocal,eps))\n",
    "        ls_list.append(model_params['lengthscale'])\n",
    "        sg_list.append(model_params['gp_sigma'])\n",
    "        p_fw_list.append(model_params['p_fw'])\n",
    "        el_list.append(model_params['exo_left'])\n",
    "        er_list.append(model_params['exo_right'])\n",
    "        p_ber_list.append(model_params['ber_prob'])\n",
    "        if i % 50 == 0:\n",
    "            print(i)\n",
    "    return  ls_list, sg_list, p_fw_list, el_list, er_list, p_ber_list,  w_list, base_colocal"
   ]
  },
  {
   "cell_type": "code",
   "execution_count": 17,
   "metadata": {},
   "outputs": [
    {
     "name": "stdout",
     "output_type": "stream",
     "text": [
      "0\n",
      "50\n"
     ]
    }
   ],
   "source": [
    "ls_list,sg_list, p_fw_list, el_list, er_list, p_ber_list, w_list, base_colocal = importance_sample(seqs,germline, 100, 2242, 1.0)"
   ]
  },
  {
   "cell_type": "code",
   "execution_count": 18,
   "metadata": {},
   "outputs": [
    {
     "data": {
      "text/plain": [
       "(array([15., 10.,  6., 10.,  5., 15., 14., 11.,  7.,  7.]),\n",
       " array([-11.87848924, -10.9088492 ,  -9.93920917,  -8.96956913,\n",
       "         -7.99992909,  -7.03028905,  -6.06064901,  -5.09100898,\n",
       "         -4.12136894,  -3.1517289 ,  -2.18208886]),\n",
       " <BarContainer object of 10 artists>)"
      ]
     },
     "execution_count": 18,
     "metadata": {},
     "output_type": "execute_result"
    },
    {
     "data": {
      "image/png": "[encoded data removed]",
      "text/plain": [
       "<Figure size 432x288 with 1 Axes>"
      ]
     },
     "metadata": {
      "needs_background": "light"
     },
     "output_type": "display_data"
    }
   ],
   "source": [
    "plt.hist(ls_list)"
   ]
  },
  {
   "cell_type": "code",
   "execution_count": 19,
   "metadata": {},
   "outputs": [
    {
     "data": {
      "text/plain": [
       "<matplotlib.collections.PathCollection at 0x1cf0bd4a820>"
      ]
     },
     "execution_count": 19,
     "metadata": {},
     "output_type": "execute_result"
    },
    {
     "data": {
      "image/png": "[encoded data removed]",
      "text/plain": [
       "<Figure size 432x288 with 1 Axes>"
      ]
     },
     "metadata": {
      "needs_background": "light"
     },
     "output_type": "display_data"
    }
   ],
   "source": [
    "plt.scatter(np.array(ls_list)[np.array(w_list)>0.0002],np.array(sg_list)[np.array(w_list) >.0002])"
   ]
  },
  {
   "cell_type": "code",
   "execution_count": 20,
   "metadata": {},
   "outputs": [
    {
     "data": {
      "text/plain": [
       "array([7.96834483, 7.94794268])"
      ]
     },
     "execution_count": 20,
     "metadata": {},
     "output_type": "execute_result"
    }
   ],
   "source": [
    "np.array(sg_list)[np.array(w_list) >.002]"
   ]
  },
  {
   "cell_type": "code",
   "execution_count": 21,
   "metadata": {},
   "outputs": [
    {
     "data": {
      "text/plain": [
       "<matplotlib.collections.PathCollection at 0x1cf0bdac5e0>"
      ]
     },
     "execution_count": 21,
     "metadata": {},
     "output_type": "execute_result"
    },
    {
     "data": {
      "image/png": "[encoded data removed]",
      "text/plain": [
       "<Figure size 432x288 with 1 Axes>"
      ]
     },
     "metadata": {
      "needs_background": "light"
     },
     "output_type": "display_data"
    }
   ],
   "source": [
    "plt.scatter(sg_list,w_list)"
   ]
  },
  {
   "cell_type": "code",
   "execution_count": 22,
   "metadata": {},
   "outputs": [
    {
     "data": {
      "text/plain": [
       "(array([1.61784037e-05, 3.52729729e-14, 1.00564634e-25, 7.03240139e-28,\n",
       "        7.90212716e-28, 3.44666587e-28, 3.35929569e-23, 4.21214091e-25,\n",
       "        0.00000000e+00, 1.53177404e-24, 4.34453637e-04, 2.28990337e-04,\n",
       "        2.45036196e-01, 2.37663096e-04, 1.17911584e+00, 6.33909444e-01,\n",
       "        7.97579138e-07, 1.22868158e-10, 6.77940043e-14, 3.64153830e-03]),\n",
       " array([-11.87848924, -11.39366922, -10.9088492 , -10.42402918,\n",
       "         -9.93920917,  -9.45438915,  -8.96956913,  -8.48474911,\n",
       "         -7.99992909,  -7.51510907,  -7.03028905,  -6.54546903,\n",
       "         -6.06064901,  -5.57582899,  -5.09100898,  -4.60618896,\n",
       "         -4.12136894,  -3.63654892,  -3.1517289 ,  -2.66690888,\n",
       "         -2.18208886]),\n",
       " <BarContainer object of 20 artists>)"
      ]
     },
     "execution_count": 22,
     "metadata": {},
     "output_type": "execute_result"
    },
    {
     "data": {
      "image/png": "[encoded data removed]",
      "text/plain": [
       "<Figure size 432x288 with 1 Axes>"
      ]
     },
     "metadata": {
      "needs_background": "light"
     },
     "output_type": "display_data"
    }
   ],
   "source": [
    "plt.hist(np.array(ls_list), density = True, weights = np.array(w_list), bins = 20)"
   ]
  },
  {
   "cell_type": "code",
   "execution_count": 23,
   "metadata": {},
   "outputs": [
    {
     "data": {
      "text/plain": [
       "(array([1.06754262e-05, 2.86677094e-04, 1.27179839e-02, 1.34545851e+00,\n",
       "        2.21394982e-23, 7.71516970e-04, 1.80394542e-26, 4.47343202e-14,\n",
       "        8.81418458e-06, 1.77956432e-03, 3.15158989e-07, 5.41031814e-08,\n",
       "        6.33930623e-11, 6.80972042e-18, 4.10069002e-16, 2.77940919e-25,\n",
       "        8.19187562e-17, 8.10749532e-11, 3.81166918e-22, 1.29025848e-23]),\n",
       " array([ 5.16853937,  5.90327482,  6.63801026,  7.3727457 ,  8.10748114,\n",
       "         8.84221658,  9.57695202, 10.31168746, 11.0464229 , 11.78115834,\n",
       "        12.51589378, 13.25062923, 13.98536467, 14.72010011, 15.45483555,\n",
       "        16.18957099, 16.92430643, 17.65904187, 18.39377731, 19.12851275,\n",
       "        19.8632482 ]),\n",
       " <BarContainer object of 20 artists>)"
      ]
     },
     "execution_count": 23,
     "metadata": {},
     "output_type": "execute_result"
    },
    {
     "data": {
      "image/png": "[encoded data removed]",
      "text/plain": [
       "<Figure size 432x288 with 1 Axes>"
      ]
     },
     "metadata": {
      "needs_background": "light"
     },
     "output_type": "display_data"
    }
   ],
   "source": [
    "plt.hist(np.array(sg_list), density = True, weights = np.array(w_list), bins = 20)"
   ]
  },
  {
   "cell_type": "code",
   "execution_count": 24,
   "metadata": {},
   "outputs": [
    {
     "ename": "NameError",
     "evalue": "name 'br_list' is not defined",
     "output_type": "error",
     "traceback": [
      "\u001b[1;31m---------------------------------------------------------------------------\u001b[0m",
      "\u001b[1;31mNameError\u001b[0m                                 Traceback (most recent call last)",
      "\u001b[1;32m<ipython-input-24-977b72478054>\u001b[0m in \u001b[0;36m<module>\u001b[1;34m\u001b[0m\n\u001b[1;32m----> 1\u001b[1;33m \u001b[0mplt\u001b[0m\u001b[1;33m.\u001b[0m\u001b[0mhist\u001b[0m\u001b[1;33m(\u001b[0m\u001b[0mnp\u001b[0m\u001b[1;33m.\u001b[0m\u001b[0marray\u001b[0m\u001b[1;33m(\u001b[0m\u001b[0mbr_list\u001b[0m\u001b[1;33m)\u001b[0m\u001b[1;33m,\u001b[0m \u001b[0mdensity\u001b[0m \u001b[1;33m=\u001b[0m \u001b[1;32mTrue\u001b[0m\u001b[1;33m,\u001b[0m \u001b[0mweights\u001b[0m \u001b[1;33m=\u001b[0m \u001b[0mnp\u001b[0m\u001b[1;33m.\u001b[0m\u001b[0marray\u001b[0m\u001b[1;33m(\u001b[0m\u001b[0mw_list\u001b[0m\u001b[1;33m)\u001b[0m\u001b[1;33m,\u001b[0m \u001b[0mbins\u001b[0m \u001b[1;33m=\u001b[0m \u001b[1;36m20\u001b[0m\u001b[1;33m)\u001b[0m\u001b[1;33m\u001b[0m\u001b[1;33m\u001b[0m\u001b[0m\n\u001b[0m",
      "\u001b[1;31mNameError\u001b[0m: name 'br_list' is not defined"
     ]
    }
   ],
   "source": [
    "plt.hist(np.array(br_list), density = True, weights = np.array(w_list), bins = 20)"
   ]
  },
  {
   "cell_type": "code",
   "execution_count": 25,
   "metadata": {},
   "outputs": [
    {
     "data": {
      "text/plain": [
       "(array([2.65222613e-02, 2.22043165e+00, 9.35891274e-02, 5.94103960e+00,\n",
       "        6.66769963e-13, 1.59118405e-04, 9.16207290e-03, 2.17794812e-19,\n",
       "        8.75088345e-21, 7.77158527e-27, 2.95945884e-01, 5.28682280e-13,\n",
       "        1.16011543e+01, 1.31376391e-04, 3.29992240e-22, 5.04011338e-18,\n",
       "        2.24364647e-03, 3.29925605e-06, 2.34056774e-06, 9.59785201e-02]),\n",
       " array([0.00928672, 0.05858092, 0.10787511, 0.15716931, 0.20646351,\n",
       "        0.25575771, 0.3050519 , 0.3543461 , 0.4036403 , 0.4529345 ,\n",
       "        0.5022287 , 0.55152289, 0.60081709, 0.65011129, 0.69940549,\n",
       "        0.74869969, 0.79799388, 0.84728808, 0.89658228, 0.94587648,\n",
       "        0.99517067]),\n",
       " <BarContainer object of 20 artists>)"
      ]
     },
     "execution_count": 25,
     "metadata": {},
     "output_type": "execute_result"
    },
    {
     "data": {
      "image/png": "[encoded data removed]",
      "text/plain": [
       "<Figure size 432x288 with 1 Axes>"
      ]
     },
     "metadata": {
      "needs_background": "light"
     },
     "output_type": "display_data"
    }
   ],
   "source": [
    "plt.hist(np.array(p_fw_list), density = True, weights = np.array(w_list), bins = 20)"
   ]
  },
  {
   "cell_type": "code",
   "execution_count": 26,
   "metadata": {},
   "outputs": [
    {
     "data": {
      "text/plain": [
       "(array([1.20617307e-09, 4.26342183e-03, 5.12619767e-19, 1.89095891e-01,\n",
       "        3.65994309e-26, 2.64581043e-02, 1.58733496e-04, 1.88618416e-22,\n",
       "        5.92666828e+00, 2.33650410e-03, 9.27312938e-03, 2.23821911e-03,\n",
       "        8.72975983e-21, 2.92898176e-01, 1.15688309e+01, 1.21803566e-15,\n",
       "        2.21506044e+00, 2.92854812e-59, 8.50667194e-06, 3.25013490e-07]),\n",
       " array([0.00212454, 0.05153827, 0.100952  , 0.15036573, 0.19977946,\n",
       "        0.24919318, 0.29860691, 0.34802064, 0.39743437, 0.4468481 ,\n",
       "        0.49626183, 0.54567556, 0.59508929, 0.64450302, 0.69391675,\n",
       "        0.74333048, 0.79274421, 0.84215794, 0.89157166, 0.94098539,\n",
       "        0.99039912]),\n",
       " <BarContainer object of 20 artists>)"
      ]
     },
     "execution_count": 26,
     "metadata": {},
     "output_type": "execute_result"
    },
    {
     "data": {
      "image/png": "[encoded data removed]",
      "text/plain": [
       "<Figure size 432x288 with 1 Axes>"
      ]
     },
     "metadata": {
      "needs_background": "light"
     },
     "output_type": "display_data"
    }
   ],
   "source": [
    "plt.hist(np.array(el_list), density = True, weights = np.array(w_list), bins = 20)"
   ]
  },
  {
   "cell_type": "code",
   "execution_count": 27,
   "metadata": {},
   "outputs": [
    {
     "data": {
      "text/plain": [
       "(array([1.60042716e-04, 9.34710217e-03, 2.95313823e-01, 8.90580158e-33,\n",
       "        8.57682982e-06, 6.00222417e+00, 1.21545021e-09, 2.35104949e-03,\n",
       "        9.65360055e-02, 5.46921575e-19, 9.94818579e-25, 2.23332973e+00,\n",
       "        5.06938880e-18, 9.41194340e-02, 2.25918496e-03, 4.72468124e-06,\n",
       "        6.14246392e-15, 4.29777286e-03, 2.68186004e-06, 1.16642413e+01]),\n",
       " array([0.00908121, 0.05809074, 0.10710027, 0.1561098 , 0.20511933,\n",
       "        0.25412886, 0.30313838, 0.35214791, 0.40115744, 0.45016697,\n",
       "        0.4991765 , 0.54818603, 0.59719555, 0.64620508, 0.69521461,\n",
       "        0.74422414, 0.79323367, 0.8422432 , 0.89125272, 0.94026225,\n",
       "        0.98927178]),\n",
       " <BarContainer object of 20 artists>)"
      ]
     },
     "execution_count": 27,
     "metadata": {},
     "output_type": "execute_result"
    },
    {
     "data": {
      "image/png": "[encoded data removed]",
      "text/plain": [
       "<Figure size 432x288 with 1 Axes>"
      ]
     },
     "metadata": {
      "needs_background": "light"
     },
     "output_type": "display_data"
    }
   ],
   "source": [
    "plt.hist(np.array(er_list), density = True, weights = np.array(w_list), bins = 20)"
   ]
  },
  {
   "cell_type": "code",
   "execution_count": 28,
   "metadata": {
    "scrolled": true
   },
   "outputs": [
    {
     "data": {
      "text/plain": [
       "{'lengthscale': -4.7856339597573445,\n",
       " 'gp_sigma': 7.916837054804955,\n",
       " 'gp_ridge': 0.01,\n",
       " 'gp_offset': -10.0,\n",
       " 'p_fw': 0.43149934841930165,\n",
       " 'fw_br': array([0.00119486, 0.00119486, 0.00119486, 0.00119486, 0.00119486,\n",
       "        1.        , 0.00119486, 0.00119486, 0.00119486, 0.00119486,\n",
       "        0.00119486, 0.00119486, 0.00119486, 0.00119486, 1.        ,\n",
       "        0.00119486, 0.00119486, 1.        , 0.00119486, 0.00119486,\n",
       "        0.45649611, 0.00119486, 1.        , 1.        , 0.00119486,\n",
       "        0.00119486, 0.00119486, 0.00119486, 0.00119486, 0.45649611,\n",
       "        0.00119486, 0.00119486, 0.00119486, 0.00119486, 0.00119486,\n",
       "        0.00119486, 1.        , 0.00119486, 0.00119486, 0.00119486,\n",
       "        0.00119486, 1.        , 1.        , 0.00119486, 0.00119486,\n",
       "        0.00119486, 1.        , 0.00119486, 1.        , 0.00119486,\n",
       "        0.00119486, 0.00119486, 0.00119486, 0.00119486, 1.        ,\n",
       "        0.00119486, 0.81867483, 0.00119486, 1.        , 0.00119486,\n",
       "        0.00119486, 0.00119486, 1.        , 0.45649611, 0.00119486,\n",
       "        0.00119486, 0.45649611, 0.00119486, 0.00119486, 0.00119486,\n",
       "        0.00119486, 0.00119486, 1.        , 0.45649611, 0.00119486,\n",
       "        0.00119486, 1.        , 0.00119486, 0.00119486, 0.00119486,\n",
       "        0.00119486, 1.        , 0.00119486, 0.00119486, 0.00119486,\n",
       "        0.00119486, 0.00119486, 0.00119486, 0.00119486, 0.00119486,\n",
       "        0.00119486, 0.00119486, 0.45649611, 0.00119486, 0.00119486,\n",
       "        0.00119486, 0.00119486, 0.00119486, 0.00119486, 0.00119486,\n",
       "        1.        , 0.45649611, 0.00119486, 0.00119486, 0.00119486,\n",
       "        0.00119486, 0.00119486, 1.        , 0.45649611, 0.00119486,\n",
       "        0.00119486, 0.00119486, 0.00119486, 0.45649611, 0.00119486,\n",
       "        0.00119486, 0.00119486, 0.45649611, 0.00119486, 0.00119486,\n",
       "        0.00119486, 0.00119486, 0.00119486, 1.        , 1.        ,\n",
       "        0.00119486, 0.00119486, 0.00119486, 0.00119486, 0.00119486,\n",
       "        1.        , 0.00119486, 0.00119486, 0.00119486, 0.00119486,\n",
       "        1.        , 0.00119486, 0.00119486, 0.00119486, 0.45649611,\n",
       "        0.00119486, 1.        , 0.00119486, 0.00119486, 0.00119486,\n",
       "        0.00119486, 0.00119486, 1.        , 0.00119486, 0.00119486,\n",
       "        0.00119486, 0.00119486, 0.00119486, 0.00119486, 0.00119486,\n",
       "        0.00119486, 1.        , 0.00119486, 0.00119486, 0.45649611,\n",
       "        0.00119486, 0.00119486, 0.00119486, 0.00119486, 0.45649611,\n",
       "        0.00119486, 0.00119486, 0.00119486, 0.00119486, 1.        ,\n",
       "        1.        , 0.00119486, 0.00119486, 0.00119486, 0.00119486,\n",
       "        0.00119486, 0.00119486, 0.00119486, 0.00119486, 0.00119486,\n",
       "        0.00119486, 1.        , 1.        , 0.00119486, 0.00119486,\n",
       "        1.        , 0.00119486, 0.00119486, 1.        , 0.00119486,\n",
       "        0.00119486, 0.00119486, 1.        , 0.00119486, 1.        ,\n",
       "        0.00119486, 0.00119486, 0.45649611, 0.00119486, 0.00119486,\n",
       "        1.        , 1.        , 0.00119486, 0.00119486, 1.        ,\n",
       "        0.00119486, 1.        , 0.00119486, 0.00119486, 0.00119486,\n",
       "        1.        , 0.00119486, 0.00119486, 0.00119486, 0.00119486,\n",
       "        0.00119486, 0.00119486, 0.00119486, 0.00119486, 1.        ,\n",
       "        0.00119486, 0.00119486, 0.00119486, 0.00119486, 0.00119486,\n",
       "        1.        , 0.00119486, 1.        , 0.00119486, 1.        ,\n",
       "        0.00119486, 0.00119486, 0.00119486, 0.00119486, 0.00119486,\n",
       "        0.00119486, 0.45649611, 0.00119486, 0.00119486, 0.00119486,\n",
       "        0.00119486, 0.00119486, 0.45649611, 0.00119486, 0.00119486,\n",
       "        0.00119486, 0.00119486, 0.00119486, 0.45649611, 0.00119486,\n",
       "        0.00119486, 1.        , 0.00119486, 0.00119486, 1.        ,\n",
       "        0.00119486, 0.00119486, 0.00119486, 0.00119486, 0.00119486,\n",
       "        0.00119486, 0.00119486, 0.00119486, 0.00119486, 0.00119486,\n",
       "        0.00119486, 0.45649611, 1.        , 0.00119486, 0.00119486,\n",
       "        0.00119486, 0.00119486, 0.00119486, 0.00119486, 0.00119486,\n",
       "        0.00119486, 0.00119486, 1.        , 1.        , 0.00119486,\n",
       "        0.00119486, 0.00119486, 0.00119486, 0.00119486, 0.00119486,\n",
       "        0.00119486, 1.        , 0.00119486, 0.00119486, 1.        ,\n",
       "        0.00119486, 0.00119486, 0.00119486, 0.00119486, 0.00119486,\n",
       "        1.        , 0.00119486, 0.00119486, 0.00119486, 0.00119486,\n",
       "        1.        , 0.00119486, 0.00119486, 0.00119486, 0.00119486,\n",
       "        0.00119486, 0.00119486, 0.00119486]),\n",
       " 'rc_br': array([0.00119486, 0.00119486, 1.        , 0.00119486, 0.81867483,\n",
       "        0.00119486, 1.        , 0.00119486, 0.00119486, 0.00119486,\n",
       "        0.00119486, 0.00119486, 0.00119486, 0.00119486, 0.00119486,\n",
       "        0.00119486, 0.00119486, 0.00119486, 1.        , 0.00119486,\n",
       "        0.00119486, 0.00119486, 0.00119486, 0.00119486, 0.00119486,\n",
       "        0.45649611, 1.        , 0.81867483, 0.00119486, 0.00119486,\n",
       "        0.00119486, 0.00119486, 1.        , 0.00119486, 0.00119486,\n",
       "        1.        , 0.00119486, 0.00119486, 0.45649611, 0.00119486,\n",
       "        0.00119486, 0.00119486, 0.00119486, 0.00119486, 0.00119486,\n",
       "        1.        , 0.00119486, 0.00119486, 0.00119486, 1.        ,\n",
       "        0.00119486, 0.00119486, 0.00119486, 0.00119486, 0.00119486,\n",
       "        0.00119486, 0.00119486, 1.        , 0.00119486, 0.00119486,\n",
       "        0.00119486, 1.        , 0.00119486, 0.00119486, 0.45649611,\n",
       "        0.00119486, 0.00119486, 0.00119486, 0.45649611, 0.00119486,\n",
       "        0.00119486, 1.        , 0.00119486, 0.00119486, 0.00119486,\n",
       "        0.00119486, 0.00119486, 0.00119486, 0.45649611, 0.00119486,\n",
       "        0.00119486, 0.00119486, 0.00119486, 0.00119486, 0.00119486,\n",
       "        1.        , 1.        , 0.00119486, 0.00119486, 0.00119486,\n",
       "        1.        , 1.        , 0.00119486, 0.00119486, 0.00119486,\n",
       "        0.00119486, 0.00119486, 0.00119486, 0.00119486, 1.        ,\n",
       "        0.00119486, 0.00119486, 0.45649611, 0.00119486, 0.00119486,\n",
       "        0.00119486, 1.        , 0.00119486, 0.00119486, 0.45649611,\n",
       "        0.00119486, 1.        , 1.        , 0.00119486, 1.        ,\n",
       "        0.45649611, 0.00119486, 0.00119486, 0.00119486, 0.45649611,\n",
       "        1.        , 0.00119486, 0.00119486, 0.00119486, 0.00119486,\n",
       "        0.45649611, 0.45649611, 0.81867483, 0.00119486, 1.        ,\n",
       "        0.00119486, 1.        , 0.00119486, 0.00119486, 0.00119486,\n",
       "        0.00119486, 0.00119486, 0.45649611, 1.        , 0.00119486,\n",
       "        1.        , 0.00119486, 1.        , 0.00119486, 1.        ,\n",
       "        0.00119486, 0.00119486, 0.00119486, 0.00119486, 0.45649611,\n",
       "        1.        , 0.81867483, 0.00119486, 0.00119486, 0.00119486,\n",
       "        0.00119486, 0.00119486, 1.        , 0.00119486, 0.00119486,\n",
       "        0.00119486, 0.00119486, 1.        , 0.00119486, 0.00119486,\n",
       "        1.        , 0.00119486, 0.00119486, 0.00119486, 0.00119486,\n",
       "        0.00119486, 0.45649611, 0.00119486, 0.00119486, 0.00119486,\n",
       "        1.        , 0.00119486, 0.00119486, 0.00119486, 0.00119486,\n",
       "        0.00119486, 0.00119486, 0.00119486, 0.00119486, 0.45649611,\n",
       "        0.00119486, 0.00119486, 0.00119486, 0.00119486, 1.        ,\n",
       "        0.00119486, 0.00119486, 0.00119486, 0.00119486, 0.00119486,\n",
       "        1.        , 0.00119486, 0.00119486, 0.00119486, 0.00119486,\n",
       "        0.00119486, 0.00119486, 0.00119486, 0.45649611, 0.00119486,\n",
       "        1.        , 0.00119486, 1.        , 0.00119486, 0.81867483,\n",
       "        0.00119486, 0.00119486, 0.00119486, 0.00119486, 0.00119486,\n",
       "        0.00119486, 1.        , 0.00119486, 1.        , 0.00119486,\n",
       "        0.00119486, 0.45649611, 0.00119486, 0.00119486, 0.00119486,\n",
       "        0.00119486, 1.        , 0.00119486, 1.        , 0.00119486,\n",
       "        0.00119486, 0.45649611, 0.00119486, 0.00119486, 1.        ,\n",
       "        1.        , 0.00119486, 1.        , 0.00119486, 0.00119486,\n",
       "        1.        , 1.        , 0.00119486, 1.        , 0.00119486,\n",
       "        0.00119486, 1.        , 1.        , 0.00119486, 0.00119486,\n",
       "        0.00119486, 0.00119486, 0.00119486, 0.00119486, 0.00119486,\n",
       "        1.        , 0.00119486, 0.00119486, 0.00119486, 0.00119486,\n",
       "        0.00119486, 1.        , 0.00119486, 0.00119486, 1.        ,\n",
       "        0.00119486, 0.00119486, 0.00119486, 0.00119486, 0.45649611,\n",
       "        1.        , 0.00119486, 1.        , 1.        , 0.00119486,\n",
       "        0.00119486, 0.00119486, 0.00119486, 0.00119486, 0.45649611,\n",
       "        0.45649611, 0.00119486, 1.        , 1.        , 0.00119486,\n",
       "        0.00119486, 0.00119486, 0.00119486, 0.45649611, 0.00119486,\n",
       "        1.        , 0.45649611, 0.00119486, 0.00119486, 1.        ,\n",
       "        0.00119486, 1.        , 0.00119486, 0.00119486, 0.00119486,\n",
       "        0.00119486, 1.        , 0.00119486, 1.        , 0.00119486,\n",
       "        0.00119486, 0.00119486, 0.00119486]),\n",
       " 'exo_left': 0.6351439981249263,\n",
       " 'exo_right': 0.6947686029640576,\n",
       " 'ber_prob': 0.45030142924339345}"
      ]
     },
     "execution_count": 28,
     "metadata": {},
     "output_type": "execute_result"
    }
   ],
   "source": [
    "thinning_prob = norm.cdf(10.0/ (np.dot(w_list,sg_list)/np.sum(w_list)))\n",
    "fw_br = np.minimum(fw_contexts/(1.0-thinning_prob),1.0)\n",
    "rc_br = np.minimum(rc_contexts/(1.0-thinning_prob),1.0)\n",
    "post_mean_params = { \"lengthscale\" : (np.dot(w_list,ls_list)/np.sum(w_list)),\n",
    "                       \"gp_sigma\" : np.dot(w_list,sg_list)/np.sum(w_list),\n",
    "                       \"gp_ridge\" : .01,\n",
    "            \"gp_offset\": -10.0,\n",
    "            \"p_fw\": np.dot(w_list, p_fw_list)/np.sum(w_list),\n",
    "            \"fw_br\": fw_br,\n",
    "            \"rc_br\": rc_br,\n",
    "            \"exo_left\": np.dot(w_list, el_list)/np.sum(w_list),\n",
    "            \"exo_right\": np.dot(w_list, er_list)/np.sum(w_list),\n",
    "            \"ber_prob\": np.dot(w_list, p_ber_list)/np.sum(w_list)\n",
    "            }\n",
    "post_mean_params"
   ]
  },
  {
   "cell_type": "code",
   "execution_count": 30,
   "metadata": {},
   "outputs": [],
   "source": [
    "sample = gen_batch_letters(germline, 5000, post_mean_params)"
   ]
  },
  {
   "cell_type": "code",
   "execution_count": 31,
   "metadata": {},
   "outputs": [],
   "source": [
    "sample_bp = (1.0-np.mean(np.array(sample) == germline, axis = 0))"
   ]
  },
  {
   "cell_type": "code",
   "execution_count": 32,
   "metadata": {},
   "outputs": [],
   "source": [
    "sample_colocal = get_colocal(sample,germline, sample_bp,50)"
   ]
  },
  {
   "cell_type": "code",
   "execution_count": 33,
   "metadata": {},
   "outputs": [
    {
     "data": {
      "text/plain": [
       "[<matplotlib.lines.Line2D at 0x1cf0e3c9130>]"
      ]
     },
     "execution_count": 33,
     "metadata": {},
     "output_type": "execute_result"
    },
    {
     "data": {
      "image/png": "[encoded data removed]",
      "text/plain": [
       "<Figure size 432x288 with 1 Axes>"
      ]
     },
     "metadata": {
      "needs_background": "light"
     },
     "output_type": "display_data"
    }
   ],
   "source": [
    "plt.plot(sample_colocal)"
   ]
  },
  {
   "cell_type": "code",
   "execution_count": 36,
   "metadata": {},
   "outputs": [],
   "source": [
    "base_prob = (1.0-np.mean(seqs == np.array(list(germline)), axis = 0))\n",
    "colocals = get_colocal(seqs,germline,base_prob,50)"
   ]
  },
  {
   "cell_type": "code",
   "execution_count": 37,
   "metadata": {},
   "outputs": [
    {
     "data": {
      "text/plain": [
       "[<matplotlib.lines.Line2D at 0x1cf0bd62b80>]"
      ]
     },
     "execution_count": 37,
     "metadata": {},
     "output_type": "execute_result"
    },
    {
     "data": {
      "image/png": "[encoded data removed]",
      "text/plain": [
       "<Figure size 432x288 with 1 Axes>"
      ]
     },
     "metadata": {
      "needs_background": "light"
     },
     "output_type": "display_data"
    }
   ],
   "source": [
    "plt.plot(colocals)"
   ]
  },
  {
   "cell_type": "code",
   "execution_count": 51,
   "metadata": {},
   "outputs": [],
   "source": [
    "pos_mut_obs = np.zeros(308)\n",
    "pos_mut_sample = np.zeros(308)\n",
    "sample = np.array(sample)\n",
    "for i in range(2242):\n",
    "    for j in range(308):\n",
    "        pos_mut_obs[j] = pos_mut_obs[j] + float(seqs[i,j] == germline[j]) \n",
    "pos_mut_obs = 1-pos_mut_obs/2242\n",
    "\n",
    "for i in range(5000):\n",
    "    for j in range(308):\n",
    "       pos_mut_sample[j] = pos_mut_sample[j] + float(sample[i,j] == germline[j]) \n",
    "pos_mut_sample = 1-pos_mut_sample/5000"
   ]
  },
  {
   "cell_type": "code",
   "execution_count": 56,
   "metadata": {},
   "outputs": [
    {
     "data": {
      "text/plain": [
       "array([[1.        , 0.21403304],\n",
       "       [0.21403304, 1.        ]])"
      ]
     },
     "execution_count": 56,
     "metadata": {},
     "output_type": "execute_result"
    }
   ],
   "source": [
    "np.corrcoef((fw_contexts+rc_contexts)/2.0, pos_mut_sample)"
   ]
  },
  {
   "cell_type": "code",
   "execution_count": 58,
   "metadata": {},
   "outputs": [
    {
     "data": {
      "text/plain": [
       "array([[1.        , 0.20580618],\n",
       "       [0.20580618, 1.        ]])"
      ]
     },
     "execution_count": 58,
     "metadata": {},
     "output_type": "execute_result"
    }
   ],
   "source": [
    "np.corrcoef((fw_contexts+rc_contexts)/2.0, pos_mut_obs)"
   ]
  },
  {
   "cell_type": "code",
   "execution_count": 59,
   "metadata": {},
   "outputs": [
    {
     "data": {
      "text/plain": [
       "array([[ 1.        , -0.01835546],\n",
       "       [-0.01835546,  1.        ]])"
      ]
     },
     "execution_count": 59,
     "metadata": {},
     "output_type": "execute_result"
    }
   ],
   "source": [
    "np.corrcoef(pos_mut_sample, pos_mut_obs)"
   ]
  },
  {
   "cell_type": "code",
   "execution_count": 60,
   "metadata": {},
   "outputs": [
    {
     "data": {
      "text/plain": [
       "[<matplotlib.lines.Line2D at 0x1cf0e059670>]"
      ]
     },
     "execution_count": 60,
     "metadata": {},
     "output_type": "execute_result"
    },
    {
     "data": {
      "image/png": "[encoded data removed]",
      "text/plain": [
       "<Figure size 432x288 with 1 Axes>"
      ]
     },
     "metadata": {
      "needs_background": "light"
     },
     "output_type": "display_data"
    }
   ],
   "source": [
    "plt.plot(pos_mut_obs)"
   ]
  },
  {
   "cell_type": "code",
   "execution_count": 61,
   "metadata": {},
   "outputs": [
    {
     "data": {
      "text/plain": [
       "[<matplotlib.lines.Line2D at 0x1cf0e0ba1c0>]"
      ]
     },
     "execution_count": 61,
     "metadata": {},
     "output_type": "execute_result"
    },
    {
     "data": {
      "image/png": "[encoded data removed]",
      "text/plain": [
       "<Figure size 432x288 with 1 Axes>"
      ]
     },
     "metadata": {
      "needs_background": "light"
     },
     "output_type": "display_data"
    }
   ],
   "source": [
    "plt.plot(pos_mut_sample)"
   ]
  },
  {
   "cell_type": "code",
   "execution_count": 67,
   "metadata": {},
   "outputs": [
    {
     "data": {
      "text/plain": [
       "46"
      ]
     },
     "execution_count": 67,
     "metadata": {},
     "output_type": "execute_result"
    }
   ],
   "source": [
    "np.argmax(pos_mut_sample)"
   ]
  },
  {
   "cell_type": "code",
   "execution_count": 68,
   "metadata": {},
   "outputs": [
    {
     "data": {
      "text/plain": [
       "0.021855486173059768"
      ]
     },
     "execution_count": 68,
     "metadata": {},
     "output_type": "execute_result"
    }
   ],
   "source": [
    "pos_mut_obs[46]"
   ]
  },
  {
   "cell_type": "code",
   "execution_count": 69,
   "metadata": {},
   "outputs": [
    {
     "data": {
      "text/plain": [
       "0.010287660599881834"
      ]
     },
     "execution_count": 69,
     "metadata": {},
     "output_type": "execute_result"
    }
   ],
   "source": [
    "np.mean(pos_mut_obs)"
   ]
  },
  {
   "cell_type": "code",
   "execution_count": null,
   "metadata": {},
   "outputs": [],
   "source": []
  }
 ],
 "metadata": {
  "kernelspec": {
   "display_name": "Python 3",
   "language": "python",
   "name": "python3"
  },
  "language_info": {
   "codemirror_mode": {
    "name": "ipython",
    "version": 3
   },
   "file_extension": ".py",
   "mimetype": "text/x-python",
   "name": "python",
   "nbconvert_exporter": "python",
   "pygments_lexer": "ipython3",
   "version": "3.8.8"
  }
 },
 "nbformat": 4,
 "nbformat_minor": 4
}
