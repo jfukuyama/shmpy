{
 "cells": [
  {
   "cell_type": "code",
   "execution_count": 16,
   "id": "d98a301a",
   "metadata": {},
   "outputs": [],
   "source": [
    "# Load our stuff\n",
    "import numpy as np\n",
    "from Bio import SeqIO\n",
    "from Bio.SeqRecord import SeqRecord\n",
    "from SHMModels.simulate_mutations import MutationRound\n",
    "from SHMModels.fitted_models import ContextModel\n",
    "import pkgutil\n",
    "import logging\n",
    "import os\n",
    "import sys\n",
    "import json\n",
    "import random\n",
    "import matplotlib.pyplot as plt\n",
    "import math\n",
    "import scipy.interpolate\n",
    "random.seed(1408)\n",
    "# Load options\n",
    "\n",
    "germline_sequence = \"data/gpt.fasta\"\n",
    "germline =list(SeqIO.parse(germline_sequence, \"fasta\"))[0].seq\n",
    "\n",
    "cm = ContextModel(3, 2, pkgutil.get_data(\"SHMModels\", \"data/aid_goodman.csv\"))\n",
    "\n",
    "pol_eta_params = {\n",
    "            \"A\": [0.9, 0.02, 0.02, 0.06],\n",
    "            \"G\": [0.01, 0.97, 0.01, 0.01],\n",
    "            \"C\": [0.01, 0.01, 0.97, 0.01],\n",
    "            \"T\": [0.06, 0.02, 0.02, 0.9],\n",
    "        }\n",
    "ber_params = np.array([0.25,0.25,0.25,0.25])\n",
    "\n",
    "\n",
    "def sample_prior():\n",
    "    ls = np.random.uniform(low = -12.0, high = -2.0)\n",
    "    sg = np.random.uniform(low = 5.0, high = 15.0)\n",
    "    br = np.random.uniform(low = 0.05, high = 0.25)\n",
    "    off = -10\n",
    "    p_fw = np.random.uniform(low = 0.0,high = 1.0)\n",
    "    return { \"base_rate\" : br,\n",
    "                       \"lengthscale\" : np.exp(ls),\n",
    "                       \"gp_sigma\" : sg,\n",
    "                       \"gp_ridge\" : .01,\n",
    "            \"gp_offset\": off,\n",
    "            \"p_fw\": p_fw\n",
    "            }\n",
    "\n",
    "# Get batch\n",
    "def gen_batch_letters(seq,batch_size, params):\n",
    "       # The prior specification\n",
    "    ber_lambda = 0.5\n",
    "    ber_params = [0.25,0.25,0.25,0.25]\n",
    "    \n",
    "    bubble_size = 25.0\n",
    "    exo_left = 0.2\n",
    "    exo_right = 0.2\n",
    "    pol_eta_params = {\n",
    "        \"A\": [0.9, 0.02, 0.02, 0.06],\n",
    "        \"G\": [0.01, 0.97, 0.01, 0.01],\n",
    "        \"C\": [0.01, 0.01, 0.97, 0.01],\n",
    "        \"T\": [0.06, 0.02, 0.02, 0.9],\n",
    "    }\n",
    "    prior_params = params\n",
    "    mutated_seq_list = []\n",
    "    for i in range(batch_size):\n",
    "          mr = MutationRound(\n",
    "          seq,\n",
    "          ber_lambda=ber_lambda,\n",
    "          mmr_lambda=1 - ber_lambda,\n",
    "          replication_time=100,\n",
    "          bubble_size=bubble_size,\n",
    "          aid_time=10,\n",
    "          exo_params={\"left\": exo_left, \"right\": exo_right},\n",
    "          pol_eta_params=pol_eta_params,\n",
    "          ber_params=ber_params,\n",
    "          p_fw=prior_params['p_fw'],\n",
    "          aid_context_model=cm,\n",
    "          log_ls = prior_params['lengthscale'],\n",
    "          br = prior_params['base_rate'],\n",
    "          sg = prior_params['gp_sigma'],\n",
    "          off = prior_params['gp_offset']\n",
    "          )\n",
    "          mr.mutation_round()\n",
    "          mutated_seq_list.append(SeqRecord(mr.repaired_sequence, id=\"\"))\n",
    "    return [list(i.seq) for i in mutated_seq_list]\n",
    "\n",
    "\n",
    "def site_dist_colocal(seqs,germline,base_probs,dist):\n",
    "    values = np.zeros(len(base_probs))\n",
    "    vars = np.zeros(len(base_probs))\n",
    "    for i in range(len(base_probs)-dist):\n",
    "        if base_probs[i]*base_probs[i+dist]>0:\n",
    "            p_1 = np.mean([z[i]!= germline[i] and z[i+dist]!=germline[i+dist] for z in seqs])\n",
    "            p_2 = base_probs[i]\n",
    "            p_3 = base_probs[i+dist]\n",
    "            values[i] = p_1/(p_2*p_3)\n",
    "            vars[i] = (1-p_2-p_3+p_2*p_3)/(len(seqs)*p_2*p_3)\n",
    "        else:\n",
    "            values[i] = 0.00\n",
    "            vars[i] = 0.0\n",
    "    return(values,vars)\n",
    "def get_colocal(seqs,germline,base_probs, max_dist):\n",
    "    colocals = np.zeros(max_dist)\n",
    "    for i in range(max_dist):\n",
    "        values,vars = site_dist_colocal(seqs,germline, base_probs, i+1)\n",
    "        colocals[i] = np.nansum(values[values>0.0]/np.sqrt(vars[values>0.0]))/np.sum(1/np.sqrt(vars[vars>0.0]))\n",
    "    return(colocals)\n",
    "\n",
    "def gauss_kernel(x,y,eps):\n",
    "    return np.exp(-(np.sum(np.square(x-y)))/(2*eps**2))\n",
    "\n",
    "def get_mmr_summ(seqs, germline):\n",
    "    c_mut_count = 0\n",
    "    g_mut_count = 0\n",
    "    for i in seqs:\n",
    "        c_mut_count += np.sum(np.logical_and(i != np.array(list(germline)),np.array([j == 'C' for j in germline])))\n",
    "        g_mut_count += np.sum(np.logical_and(i != np.array(list(germline)),np.array([j == 'G' for j in germline])))\n",
    "    return c_mut_count/(c_mut_count+g_mut_count)\n",
    "\n",
    "def importance_sample(obs_sequences,germline,n_imp_samp, n, eps):\n",
    "    \n",
    "    true_bp = (1.0-np.mean(obs_sequences == np.array(list(germline)), axis = 0))\n",
    "    mmr_stat = get_mmr_summ(obs_sequences, germline)\n",
    "    colocals = get_colocal(obs_sequences, germline,true_bp, 50)\n",
    "    base_colocal = np.append(colocals[0:50:5], np.mean(true_bp))\n",
    "    base_colocal = np.append(base_colocal, mmr_stat)\n",
    "    ls_list = []\n",
    "    w_list = []\n",
    "    sg_list = []\n",
    "    rate_list = []\n",
    "    p_fw_list = []\n",
    "    for i in range(n_imp_samp):\n",
    "        \n",
    "        model_params = sample_prior()\n",
    "        sample = gen_batch_letters(germline, n, model_params)\n",
    "        \n",
    "        sample_bp = (1.0-np.mean(sample == np.array(list(germline)), axis = 0))\n",
    "        \n",
    "        sample_colocals = get_colocal(sample,germline,sample_bp,50)\n",
    "        sample_mmr_stat = get_mmr_summ(sample, germline)\n",
    "        colocal = np.append(sample_colocals[0:50:5], np.mean(sample_bp))\n",
    "        colocal = np.append(colocal, sample_mmr_stat)\n",
    "        w = gauss_kernel(colocal,base_colocal,eps)\n",
    "        if math.isnan(w):\n",
    "            w = 0.0\n",
    "        w_list.append(w)\n",
    "        ls_list.append(model_params['lengthscale'])\n",
    "        sg_list.append(model_params['gp_sigma'])\n",
    "        rate_list.append(model_params['base_rate'])\n",
    "        p_fw_list.append(model_params['p_fw'])\n",
    "        if i % 50 == 0:\n",
    "            print(i)\n",
    "    return rate_list, ls_list, sg_list, p_fw_list,  w_list, base_colocal\n",
    "\n"
   ]
  },
  {
   "cell_type": "code",
   "execution_count": 17,
   "id": "0858e6af",
   "metadata": {},
   "outputs": [],
   "source": [
    "true_model_params = sample_prior()\n",
    "obs_sample = gen_batch_letters(germline, 1000, true_model_params)\n",
    "\n"
   ]
  },
  {
   "cell_type": "code",
   "execution_count": 18,
   "id": "68de78e0",
   "metadata": {},
   "outputs": [
    {
     "name": "stdout",
     "output_type": "stream",
     "text": [
      "0\n",
      "50\n",
      "100\n",
      "150\n",
      "200\n",
      "250\n",
      "300\n",
      "350\n",
      "400\n",
      "450\n",
      "500\n",
      "550\n",
      "600\n",
      "650\n",
      "700\n",
      "750\n",
      "800\n",
      "850\n",
      "900\n",
      "950\n"
     ]
    }
   ],
   "source": [
    "rate_list, ls_list, sg_list, p_fw_list,  w_list, base_colocal = importance_sample(obs_sample,germline, 1000, 1000, 1.5)"
   ]
  },
  {
   "cell_type": "code",
   "execution_count": 31,
   "id": "aab65686",
   "metadata": {},
   "outputs": [
    {
     "data": {
      "text/plain": [
       "3.6254006563416086e-05"
      ]
     },
     "execution_count": 31,
     "metadata": {},
     "output_type": "execute_result"
    }
   ],
   "source": [
    "np.max(w_list)"
   ]
  },
  {
   "cell_type": "code",
   "execution_count": 19,
   "id": "42259e2e",
   "metadata": {},
   "outputs": [
    {
     "data": {
      "text/plain": [
       "(array([1.07375313e-03, 3.21931780e-08, 1.07325990e-04, 5.14870216e-08,\n",
       "        5.46035669e-03, 3.19675283e-06, 2.30465974e-01, 7.28343024e-03,\n",
       "        3.37344551e-05, 9.69040403e-01, 2.07478285e-05, 2.99013117e-06,\n",
       "        2.33435934e-04, 4.25045528e-07, 6.72084578e-06, 5.45228639e-04,\n",
       "        3.30464007e-05, 1.51673005e-09, 1.51228059e-04, 7.87265027e-01]),\n",
       " array([-11.99534688, -11.49577829, -10.99620969, -10.49664109,\n",
       "         -9.9970725 ,  -9.4975039 ,  -8.99793531,  -8.49836671,\n",
       "         -7.99879812,  -7.49922952,  -6.99966093,  -6.50009233,\n",
       "         -6.00052374,  -5.50095514,  -5.00138655,  -4.50181795,\n",
       "         -4.00224936,  -3.50268076,  -3.00311216,  -2.50354357,\n",
       "         -2.00397497]),\n",
       " <BarContainer object of 20 artists>)"
      ]
     },
     "execution_count": 19,
     "metadata": {},
     "output_type": "execute_result"
    },
    {
     "data": {
      "image/png": "[encoded data removed]",
      "text/plain": [
       "<Figure size 432x288 with 1 Axes>"
      ]
     },
     "metadata": {
      "needs_background": "light"
     },
     "output_type": "display_data"
    }
   ],
   "source": [
    "plt.hist(np.log(np.array(ls_list)), density = True, weights = np.array(w_list), bins = 20)\n"
   ]
  },
  {
   "cell_type": "code",
   "execution_count": 20,
   "id": "9d162560",
   "metadata": {},
   "outputs": [
    {
     "data": {
      "text/plain": [
       "(array([6.88959755e-280, 3.82019648e-058, 1.72936781e-029, 3.42493833e-014,\n",
       "        2.58236557e-006, 2.36362636e-001, 7.89533833e-001, 7.29795888e-003,\n",
       "        9.70843439e-001, 2.45732415e-004, 5.77217187e-005, 1.07168356e-003,\n",
       "        2.93208541e-007, 6.47407147e-006, 4.79049952e-011, 1.51806116e-009,\n",
       "        3.70199059e-009, 9.74328591e-014, 3.77292771e-012, 5.11222141e-016]),\n",
       " array([ 5.01542621,  5.51407429,  6.01272237,  6.51137044,  7.01001852,\n",
       "         7.50866659,  8.00731467,  8.50596274,  9.00461082,  9.50325889,\n",
       "        10.00190697, 10.50055504, 10.99920312, 11.49785119, 11.99649927,\n",
       "        12.49514735, 12.99379542, 13.4924435 , 13.99109157, 14.48973965,\n",
       "        14.98838772]),\n",
       " <BarContainer object of 20 artists>)"
      ]
     },
     "execution_count": 20,
     "metadata": {},
     "output_type": "execute_result"
    },
    {
     "data": {
      "image/png": "[encoded data removed]",
      "text/plain": [
       "<Figure size 432x288 with 1 Axes>"
      ]
     },
     "metadata": {
      "needs_background": "light"
     },
     "output_type": "display_data"
    }
   ],
   "source": [
    "plt.hist(np.array(sg_list), density = True, weights = np.array(w_list), bins = 20)\n"
   ]
  },
  {
   "cell_type": "code",
   "execution_count": 21,
   "id": "f8630d10",
   "metadata": {},
   "outputs": [
    {
     "data": {
      "text/plain": [
       "(array([4.05994021e-01, 5.28426069e-06, 3.10466773e-03, 1.20985973e-02,\n",
       "        3.53954243e-04, 2.02248557e-03, 3.94540877e+01, 7.60173699e-06,\n",
       "        4.04905981e-04, 2.14580925e-03, 1.16589789e-02, 4.85636764e+01,\n",
       "        2.76202173e-01, 7.40281810e-03, 1.94080140e-06, 1.15497920e+01,\n",
       "        9.70121881e-05, 5.81090988e-04, 2.73452369e-02, 3.00881012e-06]),\n",
       " array([0.05022093, 0.06018933, 0.07015773, 0.08012613, 0.09009454,\n",
       "        0.10006294, 0.11003134, 0.11999974, 0.12996814, 0.13993654,\n",
       "        0.14990495, 0.15987335, 0.16984175, 0.17981015, 0.18977855,\n",
       "        0.19974695, 0.20971536, 0.21968376, 0.22965216, 0.23962056,\n",
       "        0.24958896]),\n",
       " <BarContainer object of 20 artists>)"
      ]
     },
     "execution_count": 21,
     "metadata": {},
     "output_type": "execute_result"
    },
    {
     "data": {
      "image/png": "[encoded data removed]",
      "text/plain": [
       "<Figure size 432x288 with 1 Axes>"
      ]
     },
     "metadata": {
      "needs_background": "light"
     },
     "output_type": "display_data"
    }
   ],
   "source": [
    "plt.hist(np.array(rate_list), density = True, weights = np.array(w_list), bins = 20)"
   ]
  },
  {
   "cell_type": "code",
   "execution_count": 22,
   "id": "94e4075d",
   "metadata": {},
   "outputs": [
    {
     "data": {
      "text/plain": [
       "(array([2.32658445e-03, 1.21893062e-06, 8.11309093e-07, 2.72362033e-03,\n",
       "        7.04012368e-02, 2.14157613e-06, 1.55498254e-03, 2.72267049e-05,\n",
       "        2.05416186e-05, 6.54231693e-02, 5.23896197e-06, 2.30711421e+00,\n",
       "        5.57626976e-03, 7.88125487e+00, 6.01717398e-04, 9.70076227e+00,\n",
       "        3.88106727e-04, 8.95664492e-06, 4.68222483e-04, 8.15445170e-06]),\n",
       " array([0.00146195, 0.05136546, 0.10126898, 0.15117249, 0.201076  ,\n",
       "        0.25097951, 0.30088303, 0.35078654, 0.40069005, 0.45059356,\n",
       "        0.50049708, 0.55040059, 0.6003041 , 0.65020762, 0.70011113,\n",
       "        0.75001464, 0.79991815, 0.84982167, 0.89972518, 0.94962869,\n",
       "        0.9995322 ]),\n",
       " <BarContainer object of 20 artists>)"
      ]
     },
     "execution_count": 22,
     "metadata": {},
     "output_type": "execute_result"
    },
    {
     "data": {
      "image/png": "[encoded data removed]",
      "text/plain": [
       "<Figure size 432x288 with 1 Axes>"
      ]
     },
     "metadata": {
      "needs_background": "light"
     },
     "output_type": "display_data"
    }
   ],
   "source": [
    "plt.hist(np.array(p_fw_list), density = True, weights = np.array(w_list), bins = 20)"
   ]
  },
  {
   "cell_type": "code",
   "execution_count": 23,
   "id": "9cf9e6d5",
   "metadata": {},
   "outputs": [
    {
     "data": {
      "text/plain": [
       "331"
      ]
     },
     "execution_count": 23,
     "metadata": {},
     "output_type": "execute_result"
    }
   ],
   "source": [
    "np.argmax(w_list)"
   ]
  },
  {
   "cell_type": "code",
   "execution_count": 32,
   "id": "c38f186b",
   "metadata": {},
   "outputs": [
    {
     "data": {
      "text/plain": [
       "{'base_rate': 0.16381852250388376,\n",
       " 'lengthscale': 0.000593085156411419,\n",
       " 'gp_sigma': 9.366777419487736,\n",
       " 'gp_ridge': 0.01,\n",
       " 'gp_offset': -10.0,\n",
       " 'p_fw': 0.7841172399077955}"
      ]
     },
     "execution_count": 32,
     "metadata": {},
     "output_type": "execute_result"
    }
   ],
   "source": [
    "true_bp = (1.0-np.mean(obs_sample == np.array(list(germline)), axis = 0))\n",
    "colocals = get_colocal(obs_sample, germline,true_bp, 50)\n",
    "\n",
    "mode_params = { \"base_rate\" : rate_list[331],\n",
    "                       \"lengthscale\" : ls_list[331],\n",
    "                       \"gp_sigma\" : sg_list[331],\n",
    "                       \"gp_ridge\" : .01,\n",
    "            \"gp_offset\": -10.0,\n",
    "            \"p_fw\": p_fw_list[331]\n",
    "            }\n",
    "mode_params"
   ]
  },
  {
   "cell_type": "code",
   "execution_count": 33,
   "id": "0238ae87",
   "metadata": {},
   "outputs": [
    {
     "data": {
      "text/plain": [
       "{'base_rate': 0.09040739452552618,\n",
       " 'lengthscale': 8.698546135314927e-05,\n",
       " 'gp_sigma': 8.600008858807978,\n",
       " 'gp_ridge': 0.01,\n",
       " 'gp_offset': -10,\n",
       " 'p_fw': 0.676885499942337}"
      ]
     },
     "execution_count": 33,
     "metadata": {},
     "output_type": "execute_result"
    }
   ],
   "source": [
    "true_model_params"
   ]
  },
  {
   "cell_type": "code",
   "execution_count": 34,
   "id": "ae70e77c",
   "metadata": {},
   "outputs": [
    {
     "name": "stdout",
     "output_type": "stream",
     "text": [
      "0\n",
      "10\n",
      "20\n",
      "30\n",
      "40\n",
      "50\n",
      "60\n",
      "70\n",
      "80\n",
      "90\n"
     ]
    },
    {
     "data": {
      "image/png": "[encoded data removed]",
      "text/plain": [
       "<Figure size 432x288 with 1 Axes>"
      ]
     },
     "metadata": {
      "needs_background": "light"
     },
     "output_type": "display_data"
    }
   ],
   "source": [
    "plt.plot(np.convolve(colocals, np.ones(10)/10, mode='valid'))\n",
    "resamples = []\n",
    "resamp_colocals = []\n",
    "for i in range(100):\n",
    "    mode_sample = gen_batch_letters(germline, 1000, mode_params)\n",
    "    mode_bp = (1.0-np.mean(mode_sample == np.array(list(germline)), axis = 0))\n",
    "    mode_colocals = get_colocal(mode_sample, germline,mode_bp, 50)\n",
    "    resamples.append(mode_sample)\n",
    "    resamp_colocals.append(mode_colocals)\n",
    "    plt.plot(np.convolve(mode_colocals, np.ones(10)/10, mode='valid'), color = 'red')\n",
    "    if i %10 == 0:\n",
    "        print(i)\n",
    "plt.show()\n"
   ]
  },
  {
   "cell_type": "code",
   "execution_count": 36,
   "id": "1c990e71",
   "metadata": {},
   "outputs": [
    {
     "name": "stdout",
     "output_type": "stream",
     "text": [
      "0\n",
      "10\n",
      "20\n",
      "30\n",
      "40\n",
      "50\n",
      "60\n",
      "70\n",
      "80\n",
      "90\n"
     ]
    },
    {
     "data": {
      "image/png": "[encoded data removed]",
      "text/plain": [
       "<Figure size 432x288 with 1 Axes>"
      ]
     },
     "metadata": {
      "needs_background": "light"
     },
     "output_type": "display_data"
    }
   ],
   "source": [
    "plt.plot(np.convolve(colocals, np.ones(10)/10, mode='valid'))\n",
    "resamples = []\n",
    "resamp_colocals = []\n",
    "for i in range(100):\n",
    "    mode_params['lengthscale']  = np.random.uniform(low = -12.0, high = -2.0)\n",
    "    mode_sample = gen_batch_letters(germline, 1000, mode_params)\n",
    "    mode_bp = (1.0-np.mean(mode_sample == np.array(list(germline)), axis = 0))\n",
    "    mode_colocals = get_colocal(mode_sample, germline,mode_bp, 50)\n",
    "    resamples.append(mode_sample)\n",
    "    resamp_colocals.append(mode_colocals)\n",
    "    plt.plot(np.convolve(mode_colocals, np.ones(10)/10, mode='valid'), color = 'red')\n",
    "    if i %10 == 0:\n",
    "        print(i)\n",
    "plt.show()"
   ]
  },
  {
   "cell_type": "code",
   "execution_count": 27,
   "id": "1772ea02",
   "metadata": {},
   "outputs": [],
   "source": [
    "nns = [i[0] for i in resamp_colocals]\n",
    "total_muts = [np.sum(i != np.array(list(germline))) for i in resamples]"
   ]
  },
  {
   "cell_type": "code",
   "execution_count": 28,
   "id": "b6288411",
   "metadata": {},
   "outputs": [
    {
     "data": {
      "text/plain": [
       "(array([ 1.,  1.,  3.,  2.,  5.,  6., 10.,  5.,  8.,  6.,  7.,  4., 18.,\n",
       "         8.,  2.,  3.,  5.,  1.,  3.,  2.]),\n",
       " array([1141.  , 1159.25, 1177.5 , 1195.75, 1214.  , 1232.25, 1250.5 ,\n",
       "        1268.75, 1287.  , 1305.25, 1323.5 , 1341.75, 1360.  , 1378.25,\n",
       "        1396.5 , 1414.75, 1433.  , 1451.25, 1469.5 , 1487.75, 1506.  ]),\n",
       " <BarContainer object of 20 artists>)"
      ]
     },
     "execution_count": 28,
     "metadata": {},
     "output_type": "execute_result"
    },
    {
     "data": {
      "image/png": "[encoded data removed]",
      "text/plain": [
       "<Figure size 432x288 with 1 Axes>"
      ]
     },
     "metadata": {
      "needs_background": "light"
     },
     "output_type": "display_data"
    }
   ],
   "source": [
    "plt.hist(total_muts, bins = 20)"
   ]
  },
  {
   "cell_type": "code",
   "execution_count": 29,
   "id": "39c733e0",
   "metadata": {},
   "outputs": [
    {
     "data": {
      "text/plain": [
       "<matplotlib.collections.PathCollection at 0x2171d623af0>"
      ]
     },
     "execution_count": 29,
     "metadata": {},
     "output_type": "execute_result"
    },
    {
     "data": {
      "image/png": "[encoded data removed]",
      "text/plain": [
       "<Figure size 432x288 with 1 Axes>"
      ]
     },
     "metadata": {
      "needs_background": "light"
     },
     "output_type": "display_data"
    }
   ],
   "source": [
    "plt.scatter(total_muts,nns)"
   ]
  },
  {
   "cell_type": "code",
   "execution_count": 30,
   "id": "14281feb",
   "metadata": {},
   "outputs": [
    {
     "ename": "NameError",
     "evalue": "name 'm_per_site' is not defined",
     "output_type": "error",
     "traceback": [
      "\u001b[1;31m---------------------------------------------------------------------------\u001b[0m",
      "\u001b[1;31mNameError\u001b[0m                                 Traceback (most recent call last)",
      "\u001b[1;32m<ipython-input-30-921d88d434cc>\u001b[0m in \u001b[0;36m<module>\u001b[1;34m\u001b[0m\n\u001b[1;32m----> 1\u001b[1;33m \u001b[0mplt\u001b[0m\u001b[1;33m.\u001b[0m\u001b[0mplot\u001b[0m\u001b[1;33m(\u001b[0m\u001b[0mm_per_site\u001b[0m\u001b[1;33m)\u001b[0m\u001b[1;33m\u001b[0m\u001b[1;33m\u001b[0m\u001b[0m\n\u001b[0m",
      "\u001b[1;31mNameError\u001b[0m: name 'm_per_site' is not defined"
     ]
    }
   ],
   "source": [
    "plt.plot(m_per_site)"
   ]
  },
  {
   "cell_type": "code",
   "execution_count": null,
   "id": "a2f57fa1",
   "metadata": {},
   "outputs": [],
   "source": [
    "plt.plot(np.convolve(colocals, np.ones(10)/10, mode='valid'))\n",
    "for i in range(100):\n",
    "    mode_sample = gen_batch_letters(germline, 5000, mode_params)\n",
    "    mode_bp = (1.0-np.mean(mode_sample == np.array(list(germline)), axis = 0))\n",
    "    mode_colocals = get_colocal(mode_sample, germline,mode_bp, 50)\n",
    "    plt.plot(np.convolve(mode_colocals, np.ones(10)/10, mode='valid'), color = 'red')\n",
    "    if i %10 == 0:\n",
    "        print(i)\n",
    "plt.show()"
   ]
  },
  {
   "cell_type": "code",
   "execution_count": null,
   "id": "751a5c99",
   "metadata": {},
   "outputs": [],
   "source": [
    "plt.plot(np.convolve(colocals, np.ones(10)/10, mode='valid'))\n",
    "for i in range(40):\n",
    "    mode_sample = gen_batch_letters(germline, 20000, mode_params)\n",
    "    mode_bp = (1.0-np.mean(mode_sample == np.array(list(germline)), axis = 0))\n",
    "    mode_colocals = get_colocal(mode_sample, germline,mode_bp, 50)\n",
    "    plt.plot(np.convolve(mode_colocals, np.ones(10)/10, mode='valid'), color = 'red')\n",
    "    if i %10 == 0:\n",
    "        print(i)\n",
    "plt.show()"
   ]
  },
  {
   "cell_type": "code",
   "execution_count": null,
   "id": "6a82f759",
   "metadata": {},
   "outputs": [],
   "source": [
    "plt.show()"
   ]
  },
  {
   "cell_type": "code",
   "execution_count": null,
   "id": "5ee83ec4",
   "metadata": {},
   "outputs": [],
   "source": [
    "plt.plot(np.convolve(colocals, np.ones(10)/10, mode='valid'))\n",
    "resamples = []\n",
    "resamp_colocals = []\n",
    "for i in range(100):\n",
    "    mode_sample = gen_batch_letters(germline, 1000, mode_params)\n",
    "    mode_bp = (1.0-np.mean(mode_sample == np.array(list(germline)), axis = 0))\n",
    "    mode_colocals = get_colocal(mode_sample, germline,mode_bp, 50)\n",
    "    resamples.append(mode_sample)\n",
    "    resamp_colocals.append(mode_colocals)\n",
    "    plt.plot(np.convolve(mode_colocals, np.ones(10)/10, mode='valid'), color = 'red')\n",
    "    if i %10 == 0:\n",
    "        print(i)\n",
    "plt.show()"
   ]
  },
  {
   "cell_type": "code",
   "execution_count": null,
   "id": "bac117e6",
   "metadata": {},
   "outputs": [],
   "source": []
  }
 ],
 "metadata": {
  "kernelspec": {
   "display_name": "Python 3",
   "language": "python",
   "name": "python3"
  },
  "language_info": {
   "codemirror_mode": {
    "name": "ipython",
    "version": 3
   },
   "file_extension": ".py",
   "mimetype": "text/x-python",
   "name": "python",
   "nbconvert_exporter": "python",
   "pygments_lexer": "ipython3",
   "version": "3.8.8"
  }
 },
 "nbformat": 4,
 "nbformat_minor": 5
}
