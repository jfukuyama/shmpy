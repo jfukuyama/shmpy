{
 "cells": [
  {
   "cell_type": "code",
   "execution_count": 9,
   "metadata": {},
   "outputs": [],
   "source": [
    "# Load our stuff\n",
    "import pkgutil\n",
    "from pathlib import Path\n",
    "import numpy as np\n",
    "from Bio import SeqIO\n",
    "from keras import optimizers, Input, Model\n",
    "from keras.models import Sequential\n",
    "import keras.backend as K\n",
    "import matplotlib.pyplot as plt\n",
    "from keras.layers import (\n",
    "    Dense,\n",
    "    TimeDistributed,\n",
    "    SimpleRNN,\n",
    "    Dropout,\n",
    "    Conv2D,\n",
    "    Conv2DTranspose,\n",
    "    Flatten,\n",
    "    Conv1D,\n",
    "    MaxPooling2D,\n",
    "    Reshape,\n",
    "    UpSampling2D,\n",
    ")\n",
    "import scipy\n",
    "import math\n",
    "import csv\n",
    "import random\n",
    "##### USER INPUTS (Edit some of these to be CLI eventually)\n",
    "\n",
    "# Context model length and pos_mutating\n",
    "context_model_length = 3\n",
    "context_model_pos_mutating = 2\n",
    "# Path to aid model\n",
    "aid_context_model = \"data/aid_logistic_3mer.csv\"\n",
    "# Num seqs and n_mutation rounds\n",
    "n_seqs = 1\n",
    "n_mutation_rounds = 1\n"
   ]
  },
  {
   "cell_type": "code",
   "execution_count": 10,
   "metadata": {},
   "outputs": [],
   "source": [
    "subset = []\n",
    "with open('subset.csv') as csv_file:\n",
    "    csv_reader = csv.reader(csv_file, delimiter=',')\n",
    "    line_count = 0\n",
    "    for row in csv_reader:\n",
    "        subset.append(row)\n"
   ]
  },
  {
   "cell_type": "code",
   "execution_count": 11,
   "metadata": {},
   "outputs": [],
   "source": [
    "germline = 'ATGAGCGAAAAATACATCGTCACCTGGGACATGTTGCAGATCCATGCACGTAAACTCGCAAGCCGACTGATGCCTTCTGAACAATGGAAAGGCATTATTGCCGTAAGCCGTGGCGGTCTGGTACCGGGTGCGTTACTGGCGCGTGAACTGGGTATTCGTCATGTCGATACCGTTTGTATTTCCAGCTACGATCACGACAACCAGCGCGAGCTTAAAGTGCTGAAACGCGCAGAAGGCGATGGCGAAGGCTTCATCGTTATTGATGACCTGGTGGATACCGGTGGTACTGCGGTTGCGATTCGTGAAAT'\n",
    "germline = [k for k in germline]"
   ]
  },
  {
   "cell_type": "code",
   "execution_count": 12,
   "metadata": {
    "scrolled": true
   },
   "outputs": [],
   "source": [
    "n = np.size(germline)\n",
    "c_array = np.zeros(n)\n",
    "for i in range(n):\n",
    "    c_array[i] = 1.0 * (germline[i] == 'C')"
   ]
  },
  {
   "cell_type": "code",
   "execution_count": 13,
   "metadata": {},
   "outputs": [],
   "source": [
    "subset = subset[1:309]\n",
    "seqs = []\n",
    "for i in range(2242):\n",
    "    seqs.append([k[i+1] for k in subset])\n",
    "    \n",
    "seqs = np.array(seqs)\n",
    "marg_probs = (1.0-np.mean(seqs == germline, axis = 0))\n",
    "marg_probs = np.sqrt(5)*((marg_probs-np.mean(marg_probs))/np.sqrt(np.var(marg_probs)))"
   ]
  },
  {
   "cell_type": "code",
   "execution_count": null,
   "metadata": {},
   "outputs": [],
   "source": []
  },
  {
   "cell_type": "code",
   "execution_count": 14,
   "metadata": {},
   "outputs": [],
   "source": [
    "def sample_prior(sitespec = False):\n",
    "    ls = np.random.uniform(low = -12.0, high = -2.0)\n",
    "    sg = np.random.uniform(low = 5.0, high = 15.0)\n",
    "    br = np.random.uniform(low = 0.05, high = 0.25)\n",
    "    if sitespec:\n",
    "        off = marg_probs -10.0\n",
    "    else:\n",
    "        off = -10\n",
    "    return { \"base_rate\" : br,\n",
    "                       \"lengthscale\" : np.exp(ls),\n",
    "                       \"gp_sigma\" : sg,\n",
    "                       \"gp_ridge\" : .01,\n",
    "            \"gp_offset\": off\n",
    "            }"
   ]
  },
  {
   "cell_type": "code",
   "execution_count": 15,
   "metadata": {},
   "outputs": [],
   "source": [
    "def make_se_kernel(x, lengthscale, sigma, gp_ridge):\n",
    "    D = np.zeros([len(x), len(x)])\n",
    "    upper_tri = np.triu_indices(len(x), 1)\n",
    "    D[upper_tri] = ((np.array(x)[upper_tri[0]] - np.array(x)[upper_tri[1]])**2)\n",
    "    D += D.T\n",
    "    K = sigma**2 * np.exp(-D / (2 * lengthscale))\n",
    "    np.fill_diagonal(K, K.diagonal() + gp_ridge)\n",
    "    return K\n",
    "\n",
    "def forward_sample_sequence_sgcp(sequence, params, re):\n",
    "    n = np.size(sequence)\n",
    "    if re:\n",
    "        random = np.random.normal(loc = 1.0, scale = 1.0)\n",
    "    else:\n",
    "        random = 0.0\n",
    "    vals = np.random.poisson(lam = np.exp(np.log(params['base_rate'])+random), size = n)\n",
    "    # Only include prelesions at c site\n",
    "    vals = np.multiply(vals, c_array)\n",
    "    x = []\n",
    "    means = []\n",
    "    for i in range(np.size(vals)):\n",
    "        if vals[i] > 0:\n",
    "            conts = (i-np.random.uniform(size = 1))/n\n",
    "            x = np.append(x, conts)\n",
    "            if(len(params['gp_offset'])> 1):\n",
    "                means = np.append(means, params['gp_offset'][i])\n",
    "            else:\n",
    "                means = np.append(means, -10.0)\n",
    "    N = np.size(x)\n",
    "    if N > 0:\n",
    "        K = make_se_kernel(x, params['lengthscale'], params['gp_sigma'], params['gp_ridge'])\n",
    "        lambda_of_x = np.random.multivariate_normal(mean = np.zeros(N)+means, cov = K)\n",
    "        sigma_lambda_of_x = 1 / (1 + np.exp(lambda_of_x))\n",
    "        uniforms = np.random.uniform(low = 0, high = 1, size = len(x))\n",
    "        A_and_g = [(xi, li) for (xi, si, li, u) in zip(x, sigma_lambda_of_x, lambda_of_x, uniforms) if 0 < li]\n",
    "        A_tilde_and_g = [(xi, li) for (xi, si, li, u) in zip(x, sigma_lambda_of_x, lambda_of_x, uniforms) if 0 >= li]\n",
    "        A = [a for (a, g) in A_and_g]\n",
    "        A_tilde = [at for (at, g) in A_tilde_and_g]\n",
    "        g = [g for (a, g) in A_and_g + A_tilde_and_g]\n",
    "    else:\n",
    "        A = []\n",
    "        A_tilde = []\n",
    "        g = []\n",
    "    return({ \"A\" : A, \"A_tilde\" : A_tilde, \"g\" : g})\n",
    "\n",
    "def sample_seq(sequence, params, re):\n",
    "    new_seq = sequence[:]\n",
    "    res = forward_sample_sequence_sgcp(sequence,params, re)\n",
    "    A = np.unique(np.ceil(np.multiply(res['A'],len(sequence))))\n",
    "    muts = np.random.choice(a = ['A','G','T'], size = len(A))\n",
    "    for i in range(len(A)):\n",
    "        new_seq[int(A[i])] = muts[i]\n",
    "    A_tilde = np.unique(np.ceil(np.multiply(res['A_tilde'],len(sequence))))\n",
    "    g = res['g']\n",
    "    return({\"seq\": new_seq,  \"A\" : A, \"A_tilde\" : A_tilde, \"g\" : g})\n",
    "def process_latent(seq_res):\n",
    "    n = len(seq_res['seq'])\n",
    "    A = seq_res['A']\n",
    "    A_tilde = seq_res['A_tilde']\n",
    "    g = seq_res['g']\n",
    "    A_long = np.zeros(n)\n",
    "    A_tilde_long = np.zeros(n)\n",
    "    g_long = np.zeros(n)\n",
    "    k = 0\n",
    "    for i in A:\n",
    "        A_long[int(i)] = A_long[int(i)]+1\n",
    "        g_long[int(i)] = g[k]\n",
    "        k = k+1\n",
    "    for i in A_tilde:\n",
    "        A_tilde_long[int(i)] = A_tilde_long[int(i)]+1\n",
    "        g_long[int(i)] = g[k]\n",
    "        k = k+1\n",
    "    return(np.stack([g_long,A_long, A_tilde_long],axis = 1))\n",
    "def weight_array(ar, weights):\n",
    "     sort = weights[np.argsort(ar)].cumsum()/np.sum(weights)\n",
    "     sort_ar = np.sort(ar)\n",
    "     return sort_ar,sort\n",
    "    \n",
    "# Get a 2d hot encoding of a sequence\n",
    "def hot_encode_2d(seq):\n",
    "    seq_hot = np.zeros((len(seq), 4, 1))\n",
    "    for j in range(len(seq)):\n",
    "        seq_hot[j, 0, 0] = seq[j] == \"A\"\n",
    "        seq_hot[j, 1, 0] = seq[j] == \"T\"\n",
    "        seq_hot[j, 2, 0] = seq[j] == \"G\"\n",
    "        seq_hot[j, 3, 0] = seq[j] == \"C\"\n",
    "    return seq_hot\n",
    "\n",
    "def gen_batch(seq, params, batch_size, re):\n",
    "    mut = []\n",
    "    les = []\n",
    "    preles = []\n",
    "    gaus = []\n",
    "    for i in range(batch_size):\n",
    "        temp = sample_seq(seq, params, re)\n",
    "        mut.append(temp['seq'])\n",
    "        les.append(temp['A'])\n",
    "        preles.append(temp['A_tilde'])\n",
    "        gaus.append(temp['g'])\n",
    "    return np.array(mut), np.array(les), np.array(preles), np.array(gaus)"
   ]
  },
  {
   "cell_type": "code",
   "execution_count": 16,
   "metadata": {},
   "outputs": [],
   "source": [
    "def get_colocal(batch_size, model_params, sample = None, re = False):\n",
    "    if sample is None:\n",
    "        sample,A, A_t, g = gen_batch(germline, model_params, batch_size, re)\n",
    "    base_prob = (1.0-np.mean(sample == germline, axis = 0))\n",
    "    probs = np.zeros(50)\n",
    "    deno = np.zeros(50)\n",
    "    for i in range(308):\n",
    "        for j in range(i+1,np.min([i+50,307])):\n",
    "            if base_prob[i] > 0 and base_prob[j] > 0:\n",
    "                probs[j-i] = probs[j-i] + ((np.mean(([(k[i] != germline[i])\n",
    "                                                     and (k[j] != germline[j]) for k in sample])))/\n",
    "                                           (base_prob[i]*base_prob[j]))\n",
    "                deno[j-i] = deno[j-i] + 1\n",
    "    return probs[1:],deno[1:],base_prob, sample\n",
    "def gauss_kernel(x,y,eps):\n",
    "    return np.exp(-(np.sum(np.square(x-y)))/(2*eps**2))"
   ]
  },
  {
   "cell_type": "code",
   "execution_count": 99,
   "metadata": {},
   "outputs": [],
   "source": [
    "def importance_sample(obs_sequences,germline,n_imp_samp, n, eps, random_effect = False, site_spec = False):\n",
    "    base_prob = (1.0-np.mean(obs_sequences == germline, axis = 0))\n",
    "    real_colocal = get_colocal(obs_sequences,germline,base_prob, 50)\n",
    "    real_colocal = np.append(real_colocal[0:50:5], np.mean(base_prob))\n",
    "    ls_list = []\n",
    "    w_list = []\n",
    "    sg_list = []\n",
    "    br_list = []\n",
    "    for i in range(n_imp_samp):\n",
    "        model_params = sample_prior(site_spec)\n",
    "        sample,A, A_t, g = gen_batch(germline, model_params, n, random_effect)\n",
    "        sample_bp = (1.0-np.mean(sample == germline, axis = 0))\n",
    "        colocal = get_colocal(sample,germline, sample_bp, 50)\n",
    "        colocal = np.append(colocal[0:50:5], np.mean(sample_bp))\n",
    "        weight = gauss_kernel(colocal,real_colocal,eps)\n",
    "        if math.isnan(weight):\n",
    "            print(colocal[::3])\n",
    "            print( real_colocal[::3])\n",
    "        w_list.append(weight)\n",
    "        ls_list.append(model_params['lengthscale'])\n",
    "        sg_list.append(model_params['gp_sigma'])\n",
    "        br_list.append(model_params['base_rate'])\n",
    "        if i % 50 == 0:\n",
    "            print(i)\n",
    "    return sg_list, br_list, ls_list, w_list, base_colocal"
   ]
  },
  {
   "cell_type": "code",
   "execution_count": 116,
   "metadata": {},
   "outputs": [],
   "source": [
    "def site_dist_colocal(seqs,germline,base_probs,dist):\n",
    "    values = np.zeros(len(base_probs))\n",
    "    vars = np.zeros(len(base_probs))\n",
    "    for i in range(len(base_probs)-dist):\n",
    "        if base_probs[i]*base_prob[i+dist]>0:\n",
    "            p_1 = np.mean([z[i]!= germline[i] and z[i+dist]!=germline[i+dist] for z in seqs])\n",
    "            p_2 = base_probs[i]\n",
    "            p_3 = base_probs[i+dist]\n",
    "            values[i] = p_1/(p_2*p_3)\n",
    "            vars[i] = (1-p_2-p_3+p_2*p_3)/(len(seqs)*p_2*p_3)\n",
    "        else:\n",
    "            values[i] = 0.00\n",
    "            vars[i] = 0.0\n",
    "    return(values,vars)\n",
    "def get_colocal(seqs,germline,base_probs, max_dist):\n",
    "    colocals = np.zeros(max_dist)\n",
    "    for i in range(max_dist):\n",
    "        values,vars = site_dist_colocal(seqs,germline, base_probs, i+1)\n",
    "        colocals[i] = np.nansum(values[values>0.0]/np.sqrt(vars[values>0.0]))/np.sum(1/np.sqrt(vars[vars>0.0]))\n",
    "    return(colocals)"
   ]
  },
  {
   "cell_type": "code",
   "execution_count": 97,
   "metadata": {},
   "outputs": [],
   "source": [
    "colocals = get_colocal(seqs,germline,base_prob,50)"
   ]
  },
  {
   "cell_type": "code",
   "execution_count": 117,
   "metadata": {},
   "outputs": [
    {
     "name": "stderr",
     "output_type": "stream",
     "text": [
      "<ipython-input-15-d02188c868cd>:100: VisibleDeprecationWarning: Creating an ndarray from ragged nested sequences (which is a list-or-tuple of lists-or-tuples-or ndarrays with different lengths or shapes) is deprecated. If you meant to do this, you must specify 'dtype=object' when creating the ndarray.\n",
      "  return np.array(mut), np.array(les), np.array(preles), np.array(gaus)\n",
      "<ipython-input-116-b676d266d21b>:9: RuntimeWarning: invalid value encountered in double_scalars\n",
      "  values[i] = p_1/(p_2*p_3)\n",
      "<ipython-input-116-b676d266d21b>:10: RuntimeWarning: divide by zero encountered in double_scalars\n",
      "  vars[i] = (1-p_2-p_3+p_2*p_3)/(len(seqs)*p_2*p_3)\n"
     ]
    },
    {
     "name": "stdout",
     "output_type": "stream",
     "text": [
      "0\n",
      "50\n",
      "100\n",
      "150\n",
      "200\n",
      "250\n",
      "300\n",
      "350\n",
      "400\n",
      "450\n",
      "500\n",
      "550\n",
      "600\n",
      "650\n",
      "700\n",
      "750\n",
      "800\n",
      "850\n",
      "900\n",
      "950\n"
     ]
    }
   ],
   "source": [
    "sg_list,br_list,ls_list, w_list, base_colocal = importance_sample(seqs,germline, 1000, 2242, 1.0, random_effect = True, site_spec = True)"
   ]
  },
  {
   "cell_type": "code",
   "execution_count": 118,
   "metadata": {},
   "outputs": [
    {
     "data": {
      "text/plain": [
       "(array([5.65721258e-21, 8.46858408e-21, 1.67010787e-21, 4.54049835e-18,\n",
       "        3.04363631e-21, 8.34503286e-16, 2.91399957e-15, 1.35033507e-14,\n",
       "        8.42866355e-12, 1.50035665e-08, 7.32610727e-06, 1.91686920e-03,\n",
       "        2.73824023e-02, 8.34096407e-01, 1.03338295e+00, 1.02767653e-01,\n",
       "        2.43144105e-03, 2.48964575e-04, 9.85992229e-06, 1.19195839e-06]),\n",
       " array([-11.9973513 , -11.49791194, -10.99847259, -10.49903323,\n",
       "         -9.99959387,  -9.50015451,  -9.00071515,  -8.50127579,\n",
       "         -8.00183644,  -7.50239708,  -7.00295772,  -6.50351836,\n",
       "         -6.004079  ,  -5.50463964,  -5.00520029,  -4.50576093,\n",
       "         -4.00632157,  -3.50688221,  -3.00744285,  -2.50800349,\n",
       "         -2.00856414]),\n",
       " <BarContainer object of 20 artists>)"
      ]
     },
     "execution_count": 118,
     "metadata": {},
     "output_type": "execute_result"
    },
    {
     "data": {
      "image/png": "[encoded data removed]",
      "text/plain": [
       "<Figure size 432x288 with 1 Axes>"
      ]
     },
     "metadata": {
      "needs_background": "light"
     },
     "output_type": "display_data"
    }
   ],
   "source": [
    "plt.hist(np.log(np.array(ls_list)), density = True, weights = np.array(w_list), bins = 20)"
   ]
  },
  {
   "cell_type": "code",
   "execution_count": 119,
   "metadata": {},
   "outputs": [
    {
     "data": {
      "text/plain": [
       "(array([1.22010357e-27, 3.56440079e-21, 2.87566220e-21, 2.17045853e-09,\n",
       "        8.33505250e-04, 5.61226907e-04, 6.22810410e-02, 2.80884992e-01,\n",
       "        3.06312648e-01, 5.35867197e-01, 3.05452404e-01, 3.74555989e-02,\n",
       "        6.64940453e-02, 3.73328648e-01, 9.23254242e-03, 9.42382311e-03,\n",
       "        1.47558964e-02, 4.33782441e-05, 1.60998829e-04, 3.77589535e-05]),\n",
       " array([ 5.00741231,  5.5066321 ,  6.0058519 ,  6.50507169,  7.00429148,\n",
       "         7.50351128,  8.00273107,  8.50195086,  9.00117066,  9.50039045,\n",
       "         9.99961024, 10.49883003, 10.99804983, 11.49726962, 11.99648941,\n",
       "        12.49570921, 12.994929  , 13.49414879, 13.99336859, 14.49258838,\n",
       "        14.99180817]),\n",
       " <BarContainer object of 20 artists>)"
      ]
     },
     "execution_count": 119,
     "metadata": {},
     "output_type": "execute_result"
    },
    {
     "data": {
      "image/png": "[encoded data removed]",
      "text/plain": [
       "<Figure size 432x288 with 1 Axes>"
      ]
     },
     "metadata": {
      "needs_background": "light"
     },
     "output_type": "display_data"
    }
   ],
   "source": [
    "plt.hist(np.array(sg_list), density = True, weights = np.array(w_list), bins = 20)"
   ]
  },
  {
   "cell_type": "code",
   "execution_count": 120,
   "metadata": {},
   "outputs": [
    {
     "data": {
      "text/plain": [
       "(array([2.12738063e+01, 2.25665332e+00, 1.16892201e+01, 1.65874192e+01,\n",
       "        6.96602556e-01, 2.57468450e+00, 1.72267415e-01, 2.50897418e+00,\n",
       "        1.64525658e-03, 3.59057478e+00, 8.84707139e+00, 3.32254790e+00,\n",
       "        3.57767395e+00, 3.20479904e+00, 4.45175701e+00, 2.84050640e+00,\n",
       "        1.00881098e-01, 1.22909547e+01, 5.45679741e-02, 1.31698630e-02]),\n",
       " array([0.05005086, 0.06004529, 0.07003971, 0.08003414, 0.09002856,\n",
       "        0.10002299, 0.11001741, 0.12001184, 0.13000627, 0.14000069,\n",
       "        0.14999512, 0.15998954, 0.16998397, 0.17997839, 0.18997282,\n",
       "        0.19996724, 0.20996167, 0.21995609, 0.22995052, 0.23994495,\n",
       "        0.24993937]),\n",
       " <BarContainer object of 20 artists>)"
      ]
     },
     "execution_count": 120,
     "metadata": {},
     "output_type": "execute_result"
    },
    {
     "data": {
      "image/png": "[encoded data removed]",
      "text/plain": [
       "<Figure size 432x288 with 1 Axes>"
      ]
     },
     "metadata": {
      "needs_background": "light"
     },
     "output_type": "display_data"
    }
   ],
   "source": [
    "plt.hist(np.array(br_list), density = True, weights = np.array(w_list), bins = 20)"
   ]
  },
  {
   "cell_type": "code",
   "execution_count": 121,
   "metadata": {
    "scrolled": true
   },
   "outputs": [
    {
     "data": {
      "text/plain": [
       "{'base_rate': 0.12047794274665982,\n",
       " 'lengthscale': 0.006908313476433971,\n",
       " 'gp_sigma': 10.07912531094126,\n",
       " 'gp_ridge': 0.01,\n",
       " 'gp_offset': array([-10.72533214, -10.72533214, -11.315303  , -10.72533214,\n",
       "        -10.26646592, -11.05309373, -11.18419837, -11.11864605,\n",
       "        -11.05309373, -11.18419837, -10.92198909, -11.05309373,\n",
       "         -9.54539042, -10.39757055, -10.85643678, -11.11864605,\n",
       "        -11.05309373, -11.11864605, -11.44640764, -11.44640764,\n",
       "        -11.51195996, -10.85643678, -11.24975068, -10.85643678,\n",
       "        -11.51195996, -11.315303  , -11.44640764, -11.38085532,\n",
       "        -11.11864605, -11.38085532, -11.315303  , -11.315303  ,\n",
       "         -9.80759969, -11.24975068, -11.315303  ,  -9.15207651,\n",
       "        -10.46312287, -11.18419837, -10.92198909, -11.44640764,\n",
       "        -11.18419837, -11.38085532, -11.315303  , -11.11864605,\n",
       "        -10.92198909,  -9.08652419,  -8.29989638, -11.315303  ,\n",
       "        -11.18419837, -10.33201823, -10.46312287,  -9.74204737,\n",
       "        -10.52867519, -10.59422751,  -2.46574008, -11.24975068,\n",
       "        -11.05309373,  -8.88986724, -10.85643678, -11.18419837,\n",
       "        -10.39757055, -11.24975068, -10.13536128, -11.24975068,\n",
       "        -11.38085532, -11.18419837, -11.05309373, -11.18419837,\n",
       "        -11.05309373, -10.79088446, -11.18419837, -11.05309373,\n",
       "        -10.13536128, -11.51195996, -10.06980896, -11.44640764,\n",
       "        -10.92198909, -11.38085532, -11.38085532, -11.38085532,\n",
       "        -10.26646592, -10.00425664, -11.11864605, -10.26646592,\n",
       "        -11.05309373, -11.05309373, -10.00425664, -11.18419837,\n",
       "         -9.74204737, -10.85643678, -11.51195996,  -9.15207651,\n",
       "        -11.315303  , -10.33201823, -11.18419837, -10.72533214,\n",
       "        -10.00425664, -10.92198909, -11.18419837, -11.315303  ,\n",
       "         -9.87315201, -11.38085532, -10.26646592, -10.98754141,\n",
       "         -8.82431492, -10.52867519, -10.92198909,  -9.61094274,\n",
       "        -11.315303  , -11.24975068, -11.18419837, -11.38085532,\n",
       "        -10.85643678, -11.18419837, -10.92198909, -10.85643678,\n",
       "        -10.59422751, -11.44640764, -10.92198909,  -8.16879174,\n",
       "         -5.41559439, -10.39757055,  -7.44771624,  -8.49655333,\n",
       "        -10.52867519, -10.39757055, -10.65977982,  -9.87315201,\n",
       "        -10.59422751,  -8.10323942,  -9.08652419,  -6.07111757,\n",
       "        -10.98754141, -10.06980896,  -9.4798381 ,  -5.8089083 ,\n",
       "        -11.18419837, -10.98754141, -10.79088446, -11.11864605,\n",
       "        -11.11864605, -10.92198909, -10.92198909, -10.65977982,\n",
       "         -9.80759969, -10.65977982, -10.2009136 ,  -5.54669903,\n",
       "        -10.92198909, -10.72533214, -10.52867519,  -6.2022222 ,\n",
       "         -9.87315201,  -5.48114671, -11.05309373, -11.44640764,\n",
       "        -10.59422751, -10.98754141, -11.11864605, -11.18419837,\n",
       "        -10.52867519, -11.44640764, -11.05309373, -10.85643678,\n",
       "        -11.18419837, -11.18419837, -10.39757055,  -6.72664075,\n",
       "         -7.84103015,  -8.49655333, -10.72533214, -10.46312287,\n",
       "        -10.46312287, -10.46312287, -11.44640764,  -8.88986724,\n",
       "        -10.59422751,  -6.33332684, -10.59422751, -10.65977982,\n",
       "        -11.11864605,  -7.90658247, -10.85643678, -10.46312287,\n",
       "         -4.82562353,  -5.8089083 ,  -7.57882088,  -9.41428578,\n",
       "        -10.33201823, -10.26646592, -10.39757055, -10.72533214,\n",
       "         -9.08652419, -10.98754141, -10.39757055, -10.98754141,\n",
       "        -10.52867519, -10.92198909, -10.39757055,  -8.7587626 ,\n",
       "         -5.54669903, -10.13536128, -10.2009136 , -10.06980896,\n",
       "         -9.61094274,  -9.80759969, -10.65977982, -10.59422751,\n",
       "        -10.98754141,  12.21797913,   2.45068376, -10.46312287,\n",
       "        -10.52867519,  -9.28318115, -10.59422751, -10.59422751,\n",
       "         -6.2022222 , -10.26646592,   5.33498575,  -5.35004207,\n",
       "        -11.05309373,  -8.29989638, -10.92198909, -10.2009136 ,\n",
       "         -9.34873346,  -9.54539042, -10.72533214, -10.52867519,\n",
       "         -9.4798381 , -11.11864605, -11.11864605, -10.72533214,\n",
       "        -10.79088446,  -9.34873346, -11.44640764,  -9.54539042,\n",
       "        -10.79088446, -11.05309373, -10.65977982, -11.11864605,\n",
       "        -11.24975068, -10.13536128, -11.11864605, -10.98754141,\n",
       "        -10.85643678, -10.13536128, -11.05309373,  -9.61094274,\n",
       "         -9.61094274, -10.06980896, -10.98754141, -11.24975068,\n",
       "        -11.05309373, -10.00425664, -10.65977982, -10.06980896,\n",
       "        -10.92198909,  -9.74204737,  -9.74204737, -10.2009136 ,\n",
       "        -10.98754141, -10.33201823,  -9.74204737, -10.98754141,\n",
       "        -10.92198909,  -9.4798381 , -10.98754141, -10.52867519,\n",
       "        -10.92198909, -10.59422751, -10.06980896, -10.72533214,\n",
       "         -9.87315201,  -9.08652419, -10.13536128,  -8.23434406,\n",
       "         -7.70992552,  -9.15207651, -10.13536128, -10.26646592,\n",
       "         -9.80759969, -10.00425664,  -7.77547783,  -2.46574008,\n",
       "         -8.56210565,  -5.54669903,  -5.54669903,  -9.61094274,\n",
       "        -10.39757055,  -9.54539042, -10.00425664,  -8.03768711,\n",
       "         -9.67649505, -10.46312287,  -9.4798381 ,  -9.41428578,\n",
       "         -9.28318115,  -9.21762883, -10.33201823, -10.00425664,\n",
       "        -10.26646592, -10.26646592, -10.39757055,  -9.08652419,\n",
       "        -10.2009136 ,  -8.95541956,  -9.08652419,  -9.87315201])}"
      ]
     },
     "execution_count": 121,
     "metadata": {},
     "output_type": "execute_result"
    }
   ],
   "source": [
    "post_mean_params = { \"base_rate\" : np.dot(w_list,br_list)/np.sum(w_list),\n",
    "                       \"lengthscale\" : np.exp(np.dot(w_list,np.log(ls_list))/np.sum(w_list)),\n",
    "                       \"gp_sigma\" : np.dot(w_list,sg_list)/np.sum(w_list),\n",
    "                       \"gp_ridge\" : .01,\n",
    "            \"gp_offset\": marg_probs-10.0\n",
    "            }\n",
    "post_mean_params"
   ]
  },
  {
   "cell_type": "code",
   "execution_count": 122,
   "metadata": {},
   "outputs": [
    {
     "name": "stderr",
     "output_type": "stream",
     "text": [
      "<ipython-input-15-d02188c868cd>:100: VisibleDeprecationWarning: Creating an ndarray from ragged nested sequences (which is a list-or-tuple of lists-or-tuples-or ndarrays with different lengths or shapes) is deprecated. If you meant to do this, you must specify 'dtype=object' when creating the ndarray.\n",
      "  return np.array(mut), np.array(les), np.array(preles), np.array(gaus)\n",
      "<ipython-input-116-b676d266d21b>:9: RuntimeWarning: invalid value encountered in double_scalars\n",
      "  values[i] = p_1/(p_2*p_3)\n",
      "<ipython-input-116-b676d266d21b>:10: RuntimeWarning: divide by zero encountered in double_scalars\n",
      "  vars[i] = (1-p_2-p_3+p_2*p_3)/(len(seqs)*p_2*p_3)\n"
     ]
    }
   ],
   "source": [
    "sample,A, A_t, g = gen_batch(germline, post_mean_params, 20000, True)\n",
    "sample_bp = (1.0-np.mean(sample == germline, axis = 0))\n",
    "sample_colocal = get_colocal(sample,germline, sample_bp,50)"
   ]
  },
  {
   "cell_type": "code",
   "execution_count": 123,
   "metadata": {},
   "outputs": [
    {
     "data": {
      "text/plain": [
       "[<matplotlib.lines.Line2D at 0x1d9fdf10040>]"
      ]
     },
     "execution_count": 123,
     "metadata": {},
     "output_type": "execute_result"
    },
    {
     "data": {
      "image/png": "[encoded data removed]",
      "text/plain": [
       "<Figure size 432x288 with 1 Axes>"
      ]
     },
     "metadata": {
      "needs_background": "light"
     },
     "output_type": "display_data"
    }
   ],
   "source": [
    "plt.plot(sample_colocal)"
   ]
  },
  {
   "cell_type": "code",
   "execution_count": 124,
   "metadata": {},
   "outputs": [],
   "source": [
    "colocals = get_colocal(seqs,germline,base_prob,50)"
   ]
  },
  {
   "cell_type": "code",
   "execution_count": 125,
   "metadata": {},
   "outputs": [
    {
     "data": {
      "text/plain": [
       "[<matplotlib.lines.Line2D at 0x1d9f6bfe910>]"
      ]
     },
     "execution_count": 125,
     "metadata": {},
     "output_type": "execute_result"
    },
    {
     "data": {
      "image/png": "[encoded data removed]",
      "text/plain": [
       "<Figure size 432x288 with 1 Axes>"
      ]
     },
     "metadata": {
      "needs_background": "light"
     },
     "output_type": "display_data"
    }
   ],
   "source": [
    "plt.plot(colocals)"
   ]
  },
  {
   "cell_type": "code",
   "execution_count": 28,
   "metadata": {},
   "outputs": [],
   "source": [
    "colocal_list = []"
   ]
  },
  {
   "cell_type": "code",
   "execution_count": 29,
   "metadata": {},
   "outputs": [],
   "source": [
    "for i in range(500):\n",
    "    boot_sample = np.array([random.choice(seqs) for _ in seqs])\n",
    "    probs, deno, base_prob, sample = get_real_colocal(boot_sample)\n",
    "    colocal_list.append(probs/deno)"
   ]
  },
  {
   "cell_type": "code",
   "execution_count": 30,
   "metadata": {},
   "outputs": [],
   "source": [
    "probs,deno, base_prob, sample = get_real_colocal(seqs)\n",
    "y = probs/deno"
   ]
  },
  {
   "cell_type": "code",
   "execution_count": 31,
   "metadata": {},
   "outputs": [
    {
     "data": {
      "text/plain": [
       "<matplotlib.collections.PolyCollection at 0x1d9f51c3fd0>"
      ]
     },
     "execution_count": 31,
     "metadata": {},
     "output_type": "execute_result"
    },
    {
     "data": {
      "image/png": "[encoded data removed]",
      "text/plain": [
       "<Figure size 432x288 with 1 Axes>"
      ]
     },
     "metadata": {
      "needs_background": "light"
     },
     "output_type": "display_data"
    }
   ],
   "source": [
    "#some example data\n",
    "x= np.linspace(1,49,49)\n",
    "low = np.quantile(colocal_list, 0.05, axis = 0)\n",
    "high = np.quantile(colocal_list, 0.95, axis = 0)\n",
    "\n",
    "fig, ax = plt.subplots()\n",
    "ax.plot(x,y)\n",
    "ax.fill_between(x, low, high, color='b', alpha=.1)"
   ]
  },
  {
   "cell_type": "code",
   "execution_count": 32,
   "metadata": {},
   "outputs": [
    {
     "data": {
      "text/plain": [
       "array([ 1.,  2.,  3.,  4.,  5.,  6.,  7.,  8.,  9., 10., 11., 12., 13.,\n",
       "       14., 15., 16., 17., 18., 19., 20., 21., 22., 23., 24., 25., 26.,\n",
       "       27., 28., 29., 30., 31., 32., 33., 34., 35., 36., 37., 38., 39.,\n",
       "       40., 41., 42., 43., 44., 45., 46., 47., 48., 49., 50.])"
      ]
     },
     "execution_count": 32,
     "metadata": {},
     "output_type": "execute_result"
    }
   ],
   "source": [
    "np.linspace(1,50,50)"
   ]
  },
  {
   "cell_type": "code",
   "execution_count": 33,
   "metadata": {},
   "outputs": [
    {
     "name": "stderr",
     "output_type": "stream",
     "text": [
      "<ipython-input-15-d02188c868cd>:100: VisibleDeprecationWarning: Creating an ndarray from ragged nested sequences (which is a list-or-tuple of lists-or-tuples-or ndarrays with different lengths or shapes) is deprecated. If you meant to do this, you must specify 'dtype=object' when creating the ndarray.\n",
      "  return np.array(mut), np.array(les), np.array(preles), np.array(gaus)\n"
     ]
    }
   ],
   "source": [
    "probs, deno, base_prob, sample = get_colocal(2000, post_mean_params, sample = None, re = True)"
   ]
  },
  {
   "cell_type": "code",
   "execution_count": 34,
   "metadata": {},
   "outputs": [
    {
     "data": {
      "text/plain": [
       "[<matplotlib.lines.Line2D at 0x1d9f56a6f10>]"
      ]
     },
     "execution_count": 34,
     "metadata": {},
     "output_type": "execute_result"
    },
    {
     "data": {
      "image/png": "[encoded data removed]",
      "text/plain": [
       "<Figure size 432x288 with 1 Axes>"
      ]
     },
     "metadata": {
      "needs_background": "light"
     },
     "output_type": "display_data"
    }
   ],
   "source": [
    "plt.plot(probs/deno)"
   ]
  },
  {
   "cell_type": "code",
   "execution_count": 35,
   "metadata": {},
   "outputs": [],
   "source": [
    "probs,deno, base_prob, sample = get_real_colocal(seqs)"
   ]
  },
  {
   "cell_type": "code",
   "execution_count": 36,
   "metadata": {},
   "outputs": [
    {
     "data": {
      "text/plain": [
       "[<matplotlib.lines.Line2D at 0x1d9f3f5f370>]"
      ]
     },
     "execution_count": 36,
     "metadata": {},
     "output_type": "execute_result"
    },
    {
     "data": {
      "image/png": "[encoded data removed]",
      "text/plain": [
       "<Figure size 432x288 with 1 Axes>"
      ]
     },
     "metadata": {
      "needs_background": "light"
     },
     "output_type": "display_data"
    }
   ],
   "source": [
    "plt.plot(probs/deno)"
   ]
  },
  {
   "cell_type": "code",
   "execution_count": null,
   "metadata": {},
   "outputs": [],
   "source": []
  }
 ],
 "metadata": {
  "kernelspec": {
   "display_name": "Python 3",
   "language": "python",
   "name": "python3"
  },
  "language_info": {
   "codemirror_mode": {
    "name": "ipython",
    "version": 3
   },
   "file_extension": ".py",
   "mimetype": "text/x-python",
   "name": "python",
   "nbconvert_exporter": "python",
   "pygments_lexer": "ipython3",
   "version": "3.8.8"
  }
 },
 "nbformat": 4,
 "nbformat_minor": 4
}
