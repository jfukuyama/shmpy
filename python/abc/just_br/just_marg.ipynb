{
 "cells": [
  {
   "cell_type": "code",
   "execution_count": 5,
   "metadata": {},
   "outputs": [],
   "source": [
    "# Load our stuff\n",
    "import pkgutil\n",
    "from pathlib import Path\n",
    "import numpy as np\n",
    "from Bio import SeqIO\n",
    "from SHMModels.fitted_models import ContextModel\n",
    "from keras import optimizers, Input, Model\n",
    "from keras.models import Sequential\n",
    "import keras.backend as K\n",
    "import matplotlib.pyplot as plt\n",
    "from keras.layers import (\n",
    "    Dense,\n",
    "    TimeDistributed,\n",
    "    SimpleRNN,\n",
    "    Dropout,\n",
    "    Conv2D,\n",
    "    Conv2DTranspose,\n",
    "    Flatten,\n",
    "    Conv1D,\n",
    "    MaxPooling2D,\n",
    "    Reshape,\n",
    "    UpSampling2D,\n",
    ")\n",
    "import scipy\n",
    "import math\n",
    "\n",
    "##### USER INPUTS (Edit some of these to be CLI eventually)\n"
   ]
  },
  {
   "cell_type": "code",
   "execution_count": null,
   "metadata": {},
   "outputs": [],
   "source": [
    "# First, we want to identify our true parameter set and our starting parameter set.\n",
    "# GP OFFSET FIXED AT 12\n",
    "n_samples = 10;max_steps = 4;n_imp_samples = 1;sampling_noise_sd = .01\n",
    "def sample_prior():\n",
    "    ls = np.random.uniform(low = -12.0, high = -2.0)\n",
    "    sg = np.random.uniform(low = 5.0, high = 20.0)\n",
    "    return { \"base_rate\" : 2.0,\n",
    "                       \"lengthscale\" : np.exp(ls),\n",
    "                       \"gp_sigma\" : sg,\n",
    "                       \"gp_ridge\" : .01,\n",
    "            \"gp_offset\": -10\n",
    "            }"
   ]
  },
  {
   "cell_type": "code",
   "execution_count": null,
   "metadata": {},
   "outputs": [],
   "source": []
  },
  {
   "cell_type": "code",
   "execution_count": null,
   "metadata": {},
   "outputs": [],
   "source": [
    "n = np.size(germline)\n",
    "c_array = np.zeros(n)\n",
    "for i in range(n):\n",
    "    c_array[i] = 1.0 * (germline[i] == 'C')\n"
   ]
  },
  {
   "cell_type": "code",
   "execution_count": null,
   "metadata": {},
   "outputs": [],
   "source": [
    "def make_se_kernel(x, lengthscale, sigma, gp_ridge):\n",
    "    D = np.zeros([len(x), len(x)])\n",
    "    upper_tri = np.triu_indices(len(x), 1)\n",
    "    D[upper_tri] = ((np.array(x)[upper_tri[0]] - np.array(x)[upper_tri[1]])**2)\n",
    "    D += D.T\n",
    "    K = sigma**2 * np.exp(-D / (2 * lengthscale))\n",
    "    np.fill_diagonal(K, K.diagonal() + gp_ridge)\n",
    "    return K\n",
    "\n",
    "def forward_sample_sequence_sgcp(sequence, params, re):\n",
    "    n = np.size(sequence)\n",
    "    if re:\n",
    "        random = np.random.normal(loc = 1.0, scale = 1.0)\n",
    "    else:\n",
    "        random = 0.0\n",
    "    vals = np.random.poisson(lam = np.exp(np.log(params['base_rate'])+random), size = n)\n",
    "    # Only include prelesions at c site\n",
    "    vals = np.multiply(vals, c_array)\n",
    "    x = []\n",
    "    for i in range(np.size(vals)):\n",
    "        if vals[i] > 0:\n",
    "            conts = (i-np.random.uniform(size = 1))/n\n",
    "            x = np.append(x, conts)\n",
    "    N = np.size(x)\n",
    "    if N > 0:\n",
    "        K = make_se_kernel(x, params['lengthscale'], params['gp_sigma'], params['gp_ridge'])\n",
    "        lambda_of_x = np.random.multivariate_normal(mean = np.zeros(N)+params['gp_offset'], cov = K)\n",
    "        sigma_lambda_of_x = 1 / (1 + np.exp(lambda_of_x))\n",
    "        uniforms = np.random.uniform(low = 0, high = 1, size = len(x))\n",
    "        A_and_g = [(xi, li) for (xi, si, li, u) in zip(x, sigma_lambda_of_x, lambda_of_x, uniforms) if 0 < li]\n",
    "        A_tilde_and_g = [(xi, li) for (xi, si, li, u) in zip(x, sigma_lambda_of_x, lambda_of_x, uniforms) if 0 >= li]\n",
    "        A = [a for (a, g) in A_and_g]\n",
    "        A_tilde = [at for (at, g) in A_tilde_and_g]\n",
    "        g = [g for (a, g) in A_and_g + A_tilde_and_g]\n",
    "    else:\n",
    "        A = []\n",
    "        A_tilde = []\n",
    "        g = []\n",
    "    return({ \"A\" : A, \"A_tilde\" : A_tilde, \"g\" : g})\n",
    "\n",
    "def sample_seq(sequence, params, re):\n",
    "    new_seq = sequence[:]\n",
    "    res = forward_sample_sequence_sgcp(sequence,params, re)\n",
    "    A = np.unique(np.ceil(np.multiply(res['A'],len(sequence))))\n",
    "    muts = np.random.choice(a = ['A','G','T'], size = len(A))\n",
    "    for i in range(len(A)):\n",
    "        new_seq[int(A[i])] = muts[i]\n",
    "    A_tilde = np.unique(np.ceil(np.multiply(res['A_tilde'],len(sequence))))\n",
    "    g = res['g']\n",
    "    return({\"seq\": new_seq,  \"A\" : A, \"A_tilde\" : A_tilde, \"g\" : g})\n",
    "def process_latent(seq_res):\n",
    "    n = len(seq_res['seq'])\n",
    "    A = seq_res['A']\n",
    "    A_tilde = seq_res['A_tilde']\n",
    "    g = seq_res['g']\n",
    "    A_long = np.zeros(n)\n",
    "    A_tilde_long = np.zeros(n)\n",
    "    g_long = np.zeros(n)\n",
    "    k = 0\n",
    "    for i in A:\n",
    "        A_long[int(i)] = A_long[int(i)]+1\n",
    "        g_long[int(i)] = g[k]\n",
    "        k = k+1\n",
    "    for i in A_tilde:\n",
    "        A_tilde_long[int(i)] = A_tilde_long[int(i)]+1\n",
    "        g_long[int(i)] = g[k]\n",
    "        k = k+1\n",
    "    return(np.stack([g_long,A_long, A_tilde_long],axis = 1))\n",
    "def weight_array(ar, weights):\n",
    "     sort = weights[np.argsort(ar)].cumsum()/np.sum(weights)\n",
    "     sort_ar = np.sort(ar)\n",
    "     return sort_ar,sort"
   ]
  },
  {
   "cell_type": "code",
   "execution_count": null,
   "metadata": {},
   "outputs": [],
   "source": [
    "# Get a 2d hot encoding of a sequence\n",
    "def hot_encode_2d(seq):\n",
    "    seq_hot = np.zeros((len(seq), 4, 1))\n",
    "    for j in range(len(seq)):\n",
    "        seq_hot[j, 0, 0] = seq[j] == \"A\"\n",
    "        seq_hot[j, 1, 0] = seq[j] == \"T\"\n",
    "        seq_hot[j, 2, 0] = seq[j] == \"G\"\n",
    "        seq_hot[j, 3, 0] = seq[j] == \"C\"\n",
    "    return seq_hot\n",
    "\n",
    "def gen_batch(seq, params, batch_size, re):\n",
    "    mut = []\n",
    "    les = []\n",
    "    preles = []\n",
    "    gaus = []\n",
    "    for i in range(batch_size):\n",
    "        temp = sample_seq(seq, params, re)\n",
    "        mut.append(temp['seq'])\n",
    "        les.append(temp['A'])\n",
    "        preles.append(temp['A_tilde'])\n",
    "        gaus.append(temp['g'])\n",
    "    return np.array(mut), np.array(les), np.array(preles), np.array(gaus)"
   ]
  },
  {
   "cell_type": "code",
   "execution_count": null,
   "metadata": {},
   "outputs": [],
   "source": [
    "def get_colocal(batch_size, model_params, sample = None, re = False):\n",
    "    if sample is None:\n",
    "        sample,A, A_t, g = gen_batch(germline, model_params, batch_size, re)\n",
    "    base_prob = (1.0-np.mean(sample == germline))*(308.0/70.0)\n",
    "    num = np.zeros(50)\n",
    "    deno = np.zeros(50)\n",
    "    for k in range(batch_size):\n",
    "        for i in range(308):\n",
    "            if c_array[i]:\n",
    "                for j in range(i+1,np.min([i+50,307])):\n",
    "                    if c_array[j]:\n",
    "                        if sample[k,i] != germline[i]:\n",
    "                            num[j-i] = num[j-i] + np.float(sample[k,j] != germline[j])\n",
    "                        deno[j-i] = deno[j-i] + 1.0\n",
    "    return num[1:],deno[1:],base_prob, sample\n",
    "def gauss_kernel(x,y,eps):\n",
    "    return np.exp(-(np.sum(np.square(x-y)))/(2*eps**2))"
   ]
  },
  {
   "cell_type": "code",
   "execution_count": 7,
   "metadata": {},
   "outputs": [],
   "source": [
    "true_model_params = sample_prior()\n",
    "obs_sample,A, A_t, g = gen_batch(germline,true_model_params, 300)"
   ]
  },
  {
   "cell_type": "code",
   "execution_count": null,
   "metadata": {},
   "outputs": [],
   "source": [
    "def importance_sample(obs_sequences,n_imp_samp, n, eps, random_effect = False):\n",
    "    num, deno, base_prob, sample = get_colocal(n,true_model_params, sample = obs_sequences, re = random_effect)\n",
    "    base_colocal = num/(deno*base_prob**2)\n",
    "    ls_list = []\n",
    "    w_list = []\n",
    "    sg_list = []\n",
    "    for i in range(n_imp_samp):\n",
    "        model_params = sample_prior()\n",
    "        num, deno, base_prob, sample = get_colocal(n,model_params)\n",
    "        colocal = num/(deno*base_prob**2)\n",
    "        weight = gauss_kernel(colocal[0:30:3], base_colocal[0:30:3],eps)\n",
    "        if math.isnan(weight):\n",
    "            print(colocal[0:30:3])\n",
    "            print( base_colocal[0:30:3])\n",
    "        w_list.append(weight)\n",
    "        ls_list.append(model_params['lengthscale'])\n",
    "        sg_list.append(model_params['gp_sigma'])\n",
    "        if i % 50 == 0:\n",
    "            print(i)\n",
    "    return ls_list, w_list, base_colocal"
   ]
  },
  {
   "cell_type": "code",
   "execution_count": 9,
   "metadata": {
    "scrolled": false
   },
   "outputs": [
    {
     "name": "stdout",
     "output_type": "stream",
     "text": [
      "0\n",
      "50\n",
      "100\n",
      "150\n",
      "200\n",
      "250\n",
      "300\n",
      "350\n",
      "400\n",
      "450\n",
      "500\n",
      "550\n",
      "600\n",
      "650\n",
      "700\n",
      "750\n",
      "800\n",
      "850\n",
      "900\n",
      "950\n"
     ]
    }
   ],
   "source": [
    "ls_list, w_list, base_colocal = importance_sample(obs_sample, 1000, 300, 0.75)"
   ]
  },
  {
   "cell_type": "code",
   "execution_count": 10,
   "metadata": {},
   "outputs": [
    {
     "data": {
      "text/plain": [
       "(array([7.50156391e+01, 3.06053050e-10, 6.81091619e-11, 7.22920727e-13,\n",
       "        8.31823958e-15, 9.92023355e-14, 1.32780196e-21, 6.37734871e-13,\n",
       "        7.35502782e-15, 2.58313245e-13]),\n",
       " array([6.15971487e-06, 1.33367133e-02, 2.66672670e-02, 3.99978206e-02,\n",
       "        5.33283742e-02, 6.66589278e-02, 7.99894814e-02, 9.33200351e-02,\n",
       "        1.06650589e-01, 1.19981142e-01, 1.33311696e-01]),\n",
       " <a list of 10 Patch objects>)"
      ]
     },
     "execution_count": 10,
     "metadata": {},
     "output_type": "execute_result"
    },
    {
     "data": {
      "image/png": "[encoded data removed]",
      "text/plain": [
       "<Figure size 432x288 with 1 Axes>"
      ]
     },
     "metadata": {
      "needs_background": "light"
     },
     "output_type": "display_data"
    }
   ],
   "source": [
    "# Lengthscale of 0.001\n",
    "plt.hist(np.array(ls_list), density = True, weights = np.array(w_list))"
   ]
  },
  {
   "cell_type": "code",
   "execution_count": 95,
   "metadata": {},
   "outputs": [
    {
     "data": {
      "text/plain": [
       "0.009885000000000234"
      ]
     },
     "execution_count": 95,
     "metadata": {},
     "output_type": "execute_result"
    },
    {
     "data": {
      "image/png": "[encoded data removed]",
      "text/plain": [
       "<Figure size 432x288 with 1 Axes>"
      ]
     },
     "metadata": {
      "needs_background": "light"
     },
     "output_type": "display_data"
    }
   ],
   "source": [
    "temp_params ={ \"base_rate\" : 0.1,\n",
    "                       \"lengthscale\" :0.005,\n",
    "                       \"gp_sigma\" : 8,\n",
    "                       \"gp_ridge\" : .01,\n",
    "              \"gp_offset\": -10\n",
    "            }\n",
    "num,deno,base_prob, sample = get_colocal(20000, temp_params, re = False)\n",
    "plt.plot(num/(deno*base_prob**2))\n",
    "plt.hlines(1.0, 0, 50 , colors = 'orange')\n",
    "\n",
    "base_prob"
   ]
  },
  {
   "cell_type": "code",
   "execution_count": 98,
   "metadata": {},
   "outputs": [
    {
     "data": {
      "text/plain": [
       "0.01219214285714303"
      ]
     },
     "execution_count": 98,
     "metadata": {},
     "output_type": "execute_result"
    },
    {
     "data": {
      "image/png": "[encoded data removed]",
      "text/plain": [
       "<Figure size 432x288 with 1 Axes>"
      ]
     },
     "metadata": {
      "needs_background": "light"
     },
     "output_type": "display_data"
    }
   ],
   "source": [
    "temp_params ={ \"base_rate\" : 0.01,\n",
    "                       \"lengthscale\" :0.003,\n",
    "                       \"gp_sigma\" : 17,\n",
    "                       \"gp_ridge\" : .01,\n",
    "              \"gp_offset\": -10\n",
    "            }\n",
    "num,deno,base_prob, sample = get_colocal(20000, temp_params, re = True)\n",
    "plt.plot(num/(deno*base_prob**2))\n",
    "plt.hlines(2.0, 0, 50 , colors = 'orange')\n",
    "\n",
    "base_prob"
   ]
  },
  {
   "cell_type": "code",
   "execution_count": 11,
   "metadata": {},
   "outputs": [],
   "source": [
    "est_sig = np.loadtxt(\"./est_sig\")\n",
    "true_sig = np.loadtxt(\"./true_sig\")\n",
    "est_ls = np.loadtxt(\"./est_ls\")\n",
    "true_ls = np.loadtxt(\"./true_ls\")\n",
    "est_rate = np.loadtxt(\"./est_rate\")\n",
    "true_rate = np.loadtxt(\"./true_rate\")\n",
    "est_re = np.loadtxt(\"./est_re\")\n",
    "true_re = np.loadtxt(\"./true_re\")"
   ]
  },
  {
   "cell_type": "code",
   "execution_count": 7,
   "metadata": {},
   "outputs": [
    {
     "data": {
      "text/plain": [
       "<matplotlib.collections.PathCollection at 0x2830db20da0>"
      ]
     },
     "execution_count": 7,
     "metadata": {},
     "output_type": "execute_result"
    },
    {
     "data": {
      "image/png": "[encoded data removed]",
      "text/plain": [
       "<Figure size 432x288 with 1 Axes>"
      ]
     },
     "metadata": {
      "needs_background": "light"
     },
     "output_type": "display_data"
    }
   ],
   "source": [
    "plt.scatter(est_sig,true_sig)"
   ]
  },
  {
   "cell_type": "code",
   "execution_count": 8,
   "metadata": {},
   "outputs": [
    {
     "data": {
      "text/plain": [
       "<matplotlib.collections.PathCollection at 0x2830dbd1c50>"
      ]
     },
     "execution_count": 8,
     "metadata": {},
     "output_type": "execute_result"
    },
    {
     "data": {
      "image/png": "[encoded data removed]",
      "text/plain": [
       "<Figure size 432x288 with 1 Axes>"
      ]
     },
     "metadata": {
      "needs_background": "light"
     },
     "output_type": "display_data"
    }
   ],
   "source": [
    "plt.scatter(np.log(est_ls),np.log(true_ls))"
   ]
  },
  {
   "cell_type": "code",
   "execution_count": 9,
   "metadata": {},
   "outputs": [
    {
     "data": {
      "text/plain": [
       "<matplotlib.collections.PathCollection at 0x2830dc30908>"
      ]
     },
     "execution_count": 9,
     "metadata": {},
     "output_type": "execute_result"
    },
    {
     "data": {
      "image/png": "[encoded data removed]",
      "text/plain": [
       "<Figure size 432x288 with 1 Axes>"
      ]
     },
     "metadata": {
      "needs_background": "light"
     },
     "output_type": "display_data"
    }
   ],
   "source": [
    "plt.scatter((est_rate),(true_rate))"
   ]
  },
  {
   "cell_type": "code",
   "execution_count": 12,
   "metadata": {},
   "outputs": [
    {
     "data": {
      "text/plain": [
       "<matplotlib.collections.PathCollection at 0x2830dc9e978>"
      ]
     },
     "execution_count": 12,
     "metadata": {},
     "output_type": "execute_result"
    },
    {
     "data": {
      "image/png": "[encoded data removed]",
      "text/plain": [
       "<Figure size 432x288 with 1 Axes>"
      ]
     },
     "metadata": {
      "needs_background": "light"
     },
     "output_type": "display_data"
    }
   ],
   "source": [
    "plt.scatter((est_re),(true_re))"
   ]
  },
  {
   "cell_type": "code",
   "execution_count": null,
   "metadata": {},
   "outputs": [],
   "source": []
  }
 ],
 "metadata": {
  "kernelspec": {
   "display_name": "Python 3",
   "language": "python",
   "name": "python3"
  },
  "language_info": {
   "codemirror_mode": {
    "name": "ipython",
    "version": 3
   },
   "file_extension": ".py",
   "mimetype": "text/x-python",
   "name": "python",
   "nbconvert_exporter": "python",
   "pygments_lexer": "ipython3",
   "version": "3.6.10"
  }
 },
 "nbformat": 4,
 "nbformat_minor": 4
}
