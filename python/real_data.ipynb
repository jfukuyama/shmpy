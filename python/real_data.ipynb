{
 "cells": [
  {
   "cell_type": "code",
   "execution_count": 19,
   "metadata": {},
   "outputs": [],
   "source": [
    "# Load our stuff\n",
    "import numpy as np\n",
    "from Bio import SeqIO\n",
    "from SHMModels.simulate_mutations import *\n",
    "from SHMModels.fitted_models import ContextModel\n",
    "import pkgutil\n",
    "import logging\n",
    "import os\n",
    "import sys\n",
    "import json\n",
    "import random\n",
    "import matplotlib.pyplot as plt\n",
    "random.seed(1408)\n",
    "import csv\n",
    "# Load options\n",
    "\n",
    "germline_sequence = \"data/gpt.fasta\"\n",
    "germline =list(SeqIO.parse(germline_sequence, \"fasta\"))[0].seq\n",
    "\n",
    "cm = ContextModel(3, 2, pkgutil.get_data(\"SHMModels\", \"data/aid_goodman.csv\"))\n",
    "\n",
    "pol_eta_params = {\n",
    "            \"A\": [0.9, 0.02, 0.02, 0.06],\n",
    "            \"G\": [0.01, 0.97, 0.01, 0.01],\n",
    "            \"C\": [0.01, 0.01, 0.97, 0.01],\n",
    "            \"T\": [0.06, 0.02, 0.02, 0.9],\n",
    "        }\n",
    "ber_params = np.array([0.25,0.25,0.25,0.25])"
   ]
  },
  {
   "cell_type": "code",
   "execution_count": 20,
   "metadata": {},
   "outputs": [],
   "source": [
    "subset = []\n",
    "with open('subset.csv') as csv_file:\n",
    "    csv_reader = csv.reader(csv_file, delimiter=',')\n",
    "    line_count = 0\n",
    "    for row in csv_reader:\n",
    "        subset.append(row)\n"
   ]
  },
  {
   "cell_type": "code",
   "execution_count": 21,
   "metadata": {},
   "outputs": [],
   "source": [
    "subset = subset[1:309]\n",
    "seqs = []\n",
    "for i in range(2242):\n",
    "    seqs.append([k[i+1] for k in subset])\n",
    "seqs = np.array(seqs)"
   ]
  },
  {
   "cell_type": "code",
   "execution_count": 22,
   "metadata": {},
   "outputs": [],
   "source": [
    "def sample_prior():\n",
    "    ls = np.random.uniform(low = -12.0, high = -2.0)\n",
    "    sg = np.random.uniform(low = 5.0, high = 15.0)\n",
    "    br = np.random.uniform(low = 0.05, high = 0.25)\n",
    "    off = -10\n",
    "    return { \"base_rate\" : br,\n",
    "                       \"lengthscale\" : np.exp(ls),\n",
    "                       \"gp_sigma\" : sg,\n",
    "                       \"gp_ridge\" : .01,\n",
    "            \"gp_offset\": off\n",
    "            }\n",
    "\n",
    "# Get batch\n",
    "def gen_batch_letters(seq,batch_size, params):\n",
    "       # The prior specification\n",
    "    ber_lambda = 0.5\n",
    "    ber_params = [0.25,0.25,0.25,0.25]\n",
    "    \n",
    "    bubble_size = 25.0\n",
    "    exo_left = 0.2\n",
    "    exo_right = 0.2\n",
    "    pol_eta_params = {\n",
    "        \"A\": [0.9, 0.02, 0.02, 0.06],\n",
    "        \"G\": [0.01, 0.97, 0.01, 0.01],\n",
    "        \"C\": [0.01, 0.01, 0.97, 0.01],\n",
    "        \"T\": [0.06, 0.02, 0.02, 0.9],\n",
    "    }\n",
    "    p_fw = 0.5\n",
    "    prior_params = sample_prior()\n",
    "    mutated_seq_list = []\n",
    "    for i in range(batch_size):\n",
    "          mr = MutationRound(\n",
    "          seq,\n",
    "          ber_lambda=ber_lambda,\n",
    "          mmr_lambda=1 - ber_lambda,\n",
    "          replication_time=100,\n",
    "          bubble_size=bubble_size,\n",
    "          aid_time=10,\n",
    "          exo_params={\"left\": exo_left, \"right\": exo_right},\n",
    "          pol_eta_params=pol_eta_params,\n",
    "          ber_params=ber_params,\n",
    "          p_fw=p_fw,\n",
    "          aid_context_model=cm,\n",
    "          log_ls = prior_params['lengthscale'],\n",
    "          br = prior_params['base_rate'],\n",
    "          sg = prior_params['gp_sigma'],\n",
    "          off = prior_params['gp_offset']\n",
    "          )\n",
    "          mr.mutation_round()\n",
    "          mutated_seq_list.append(SeqRecord(mr.repaired_sequence, id=\"\"))\n",
    "    return [list(i.seq) for i in mutated_seq_list]"
   ]
  },
  {
   "cell_type": "code",
   "execution_count": 23,
   "metadata": {},
   "outputs": [],
   "source": [
    "def site_dist_colocal(seqs,germline,base_probs,dist):\n",
    "    values = np.zeros(len(base_probs))\n",
    "    vars = np.zeros(len(base_probs))\n",
    "    for i in range(len(base_probs)-dist):\n",
    "        if base_probs[i]*base_probs[i+dist]>0:\n",
    "            p_1 = np.mean([z[i]!= germline[i] and z[i+dist]!=germline[i+dist] for z in seqs])\n",
    "            p_2 = base_probs[i]\n",
    "            p_3 = base_probs[i+dist]\n",
    "            values[i] = p_1/(p_2*p_3)\n",
    "            vars[i] = (1-p_2-p_3+p_2*p_3)/(len(seqs)*p_2*p_3)\n",
    "        else:\n",
    "            values[i] = 0.00\n",
    "            vars[i] = 0.0\n",
    "    return(values,vars)\n",
    "def get_colocal(seqs,germline,base_probs, max_dist):\n",
    "    colocals = np.zeros(max_dist)\n",
    "    for i in range(max_dist):\n",
    "        values,vars = site_dist_colocal(seqs,germline, base_probs, i+1)\n",
    "        colocals[i] = np.nansum(values[values>0.0]/np.sqrt(vars[values>0.0]))/np.sum(1/np.sqrt(vars[vars>0.0]))\n",
    "    return(colocals)\n",
    "\n",
    "def gauss_kernel(x,y,eps):\n",
    "    return np.exp(-(np.sum(np.square(x-y)))/(2*eps**2))"
   ]
  },
  {
   "cell_type": "code",
   "execution_count": 24,
   "metadata": {},
   "outputs": [],
   "source": [
    "def importance_sample(obs_sequences,germline,n_imp_samp, n, eps):\n",
    "    \n",
    "    true_bp = (1.0-np.mean(obs_sequences == np.array(list(germline)), axis = 0))\n",
    "    colocals = get_colocal(obs_sequences, germline,true_bp, 50)\n",
    "    base_colocal = np.append(colocals[0:50:5], np.mean(true_bp))\n",
    "    ls_list = []\n",
    "    w_list = []\n",
    "    sg_list = []\n",
    "    rate_list = []\n",
    "    for i in range(n_imp_samp):\n",
    "        \n",
    "        model_params = sample_prior()\n",
    "        sample = gen_batch_letters(germline, n, model_params)\n",
    "        \n",
    "        sample_bp = (1.0-np.mean(sample == np.array(list(germline)), axis = 0))\n",
    "        \n",
    "        sample_colocals = get_colocal(sample,germline,sample_bp,50)\n",
    "        \n",
    "        colocal = np.append(sample_colocals[0:50:5], np.mean(sample_bp))\n",
    "        \n",
    "        w_list.append(gauss_kernel(colocal, base_colocal,eps))\n",
    "        ls_list.append(model_params['lengthscale'])\n",
    "        sg_list.append(model_params['gp_sigma'])\n",
    "        rate_list.append(model_params['base_rate'])\n",
    "        if i % 50 == 0:\n",
    "            print(i)\n",
    "    return rate_list, ls_list, sg_list,  w_list, base_colocal"
   ]
  },
  {
   "cell_type": "code",
   "execution_count": 25,
   "metadata": {},
   "outputs": [
    {
     "name": "stdout",
     "output_type": "stream",
     "text": [
      "0\n",
      "50\n",
      "100\n",
      "150\n",
      "200\n",
      "250\n",
      "300\n",
      "350\n",
      "400\n",
      "450\n",
      "500\n",
      "550\n",
      "600\n",
      "650\n",
      "700\n",
      "750\n",
      "800\n",
      "850\n",
      "900\n",
      "950\n"
     ]
    }
   ],
   "source": [
    "br_list,ls_list,sg_list, w_list, base_colocal = importance_sample(seqs,germline, 1000, 2242, 1.0)"
   ]
  },
  {
   "cell_type": "code",
   "execution_count": 26,
   "metadata": {},
   "outputs": [],
   "source": [
    "t_br = ls_list\n",
    "t_ls = br_list\n",
    "ls_list = t_ls\n",
    "br_list = t_br"
   ]
  },
  {
   "cell_type": "code",
   "execution_count": 27,
   "metadata": {},
   "outputs": [
    {
     "data": {
      "text/plain": [
       "(array([0.07965534, 1.71002625, 0.24627544, 0.69703076, 1.39240356,\n",
       "        0.43222093, 0.07780767, 0.25006037, 0.24427867, 0.28079659,\n",
       "        0.51205081, 0.24391133, 0.73652366, 0.30594673, 0.76285911,\n",
       "        0.50423972, 0.52932682, 2.34990218, 0.51636219, 0.62188614]),\n",
       " array([-2.99063264, -2.91059143, -2.83055022, -2.75050901, -2.6704678 ,\n",
       "        -2.59042659, -2.51038538, -2.43034417, -2.35030296, -2.27026175,\n",
       "        -2.19022054, -2.11017933, -2.03013812, -1.95009691, -1.8700557 ,\n",
       "        -1.79001449, -1.70997328, -1.62993207, -1.54989086, -1.46984966,\n",
       "        -1.38980845]),\n",
       " <BarContainer object of 20 artists>)"
      ]
     },
     "execution_count": 27,
     "metadata": {},
     "output_type": "execute_result"
    },
    {
     "data": {
      "image/png": "[encoded data removed]",
      "text/plain": [
       "<Figure size 432x288 with 1 Axes>"
      ]
     },
     "metadata": {
      "needs_background": "light"
     },
     "output_type": "display_data"
    }
   ],
   "source": [
    "plt.hist(np.log(np.array(ls_list)), density = True, weights = np.array(w_list), bins = 20)"
   ]
  },
  {
   "cell_type": "code",
   "execution_count": 28,
   "metadata": {},
   "outputs": [
    {
     "data": {
      "text/plain": [
       "(array([0.01871348, 0.08091364, 0.09444995, 0.02274175, 0.06513396,\n",
       "        0.09431404, 0.07068379, 0.12882575, 0.23294983, 0.13791918,\n",
       "        0.20547646, 0.07543074, 0.03482492, 0.08028575, 0.11251773,\n",
       "        0.04861215, 0.04120013, 0.21601423, 0.14031551, 0.10253068]),\n",
       " array([ 5.01325933,  5.51229776,  6.01133619,  6.51037463,  7.00941306,\n",
       "         7.50845149,  8.00748992,  8.50652835,  9.00556678,  9.50460522,\n",
       "        10.00364365, 10.50268208, 11.00172051, 11.50075894, 11.99979737,\n",
       "        12.49883581, 12.99787424, 13.49691267, 13.9959511 , 14.49498953,\n",
       "        14.99402796]),\n",
       " <BarContainer object of 20 artists>)"
      ]
     },
     "execution_count": 28,
     "metadata": {},
     "output_type": "execute_result"
    },
    {
     "data": {
      "image/png": "[encoded data removed]",
      "text/plain": [
       "<Figure size 432x288 with 1 Axes>"
      ]
     },
     "metadata": {
      "needs_background": "light"
     },
     "output_type": "display_data"
    }
   ],
   "source": [
    "plt.hist(np.array(sg_list), density = True, weights = np.array(w_list), bins = 20)"
   ]
  },
  {
   "cell_type": "code",
   "execution_count": 29,
   "metadata": {},
   "outputs": [
    {
     "data": {
      "text/plain": [
       "(array([9.52720150e+01, 2.03944856e+01, 8.77487121e+00, 3.10468546e-01,\n",
       "        1.75914016e+00, 9.95835815e+00, 5.53852382e-02, 2.25237070e-01,\n",
       "        2.57546936e+00, 3.43003302e-01, 1.17044079e+00, 2.15632881e-01,\n",
       "        1.54131123e+00, 1.77171983e-01, 4.52147251e+00, 0.00000000e+00,\n",
       "        9.76780681e-01, 6.12270805e-02, 9.13377100e-01, 8.36564825e-03]),\n",
       " array([6.21886218e-06, 6.70619721e-03, 1.34061756e-02, 2.01061539e-02,\n",
       "        2.68061323e-02, 3.35061106e-02, 4.02060890e-02, 4.69060673e-02,\n",
       "        5.36060457e-02, 6.03060240e-02, 6.70060024e-02, 7.37059807e-02,\n",
       "        8.04059591e-02, 8.71059374e-02, 9.38059158e-02, 1.00505894e-01,\n",
       "        1.07205873e-01, 1.13905851e-01, 1.20605829e-01, 1.27305808e-01,\n",
       "        1.34005786e-01]),\n",
       " <BarContainer object of 20 artists>)"
      ]
     },
     "execution_count": 29,
     "metadata": {},
     "output_type": "execute_result"
    },
    {
     "data": {
      "image/png": "[encoded data removed]",
      "text/plain": [
       "<Figure size 432x288 with 1 Axes>"
      ]
     },
     "metadata": {
      "needs_background": "light"
     },
     "output_type": "display_data"
    }
   ],
   "source": [
    "plt.hist(np.array(br_list), density = True, weights = np.array(w_list), bins = 20)"
   ]
  },
  {
   "cell_type": "code",
   "execution_count": 30,
   "metadata": {
    "scrolled": true
   },
   "outputs": [
    {
     "data": {
      "text/plain": [
       "{'base_rate': 0.012720722323046245,\n",
       " 'lengthscale': 0.11828734220636047,\n",
       " 'gp_sigma': 10.48050398944492,\n",
       " 'gp_ridge': 0.01,\n",
       " 'gp_offset': -10.0}"
      ]
     },
     "execution_count": 30,
     "metadata": {},
     "output_type": "execute_result"
    }
   ],
   "source": [
    "post_mean_params = { \"base_rate\" : np.dot(w_list,br_list)/np.sum(w_list),\n",
    "                       \"lengthscale\" : np.exp(np.dot(w_list,np.log(ls_list))/np.sum(w_list)),\n",
    "                       \"gp_sigma\" : np.dot(w_list,sg_list)/np.sum(w_list),\n",
    "                       \"gp_ridge\" : .01,\n",
    "            \"gp_offset\": -10.0\n",
    "            }\n",
    "post_mean_params"
   ]
  },
  {
   "cell_type": "code",
   "execution_count": 31,
   "metadata": {},
   "outputs": [],
   "source": [
    "sample = gen_batch_letters(germline, 10000, post_mean_params)"
   ]
  },
  {
   "cell_type": "code",
   "execution_count": 32,
   "metadata": {},
   "outputs": [],
   "source": [
    "sample_bp = (1.0-np.mean(np.array(sample) == germline, axis = 0))"
   ]
  },
  {
   "cell_type": "code",
   "execution_count": 33,
   "metadata": {},
   "outputs": [],
   "source": [
    "sample_colocal = get_colocal(sample,germline, sample_bp,50)"
   ]
  },
  {
   "cell_type": "code",
   "execution_count": 34,
   "metadata": {},
   "outputs": [
    {
     "data": {
      "text/plain": [
       "[<matplotlib.lines.Line2D at 0x1ad0765ceb0>]"
      ]
     },
     "execution_count": 34,
     "metadata": {},
     "output_type": "execute_result"
    },
    {
     "data": {
      "image/png": "[encoded data removed]",
      "text/plain": [
       "<Figure size 432x288 with 1 Axes>"
      ]
     },
     "metadata": {
      "needs_background": "light"
     },
     "output_type": "display_data"
    }
   ],
   "source": [
    "plt.plot(sample_colocal)"
   ]
  },
  {
   "cell_type": "code",
   "execution_count": 35,
   "metadata": {},
   "outputs": [],
   "source": [
    "base_prob = (1.0-np.mean(seqs == np.array(list(germline)), axis = 0))\n",
    "colocals = get_colocal(seqs,germline,base_prob,50)"
   ]
  },
  {
   "cell_type": "code",
   "execution_count": 36,
   "metadata": {},
   "outputs": [
    {
     "data": {
      "text/plain": [
       "[<matplotlib.lines.Line2D at 0x1ad0899c460>]"
      ]
     },
     "execution_count": 36,
     "metadata": {},
     "output_type": "execute_result"
    },
    {
     "data": {
      "image/png": "[encoded data removed]",
      "text/plain": [
       "<Figure size 432x288 with 1 Axes>"
      ]
     },
     "metadata": {
      "needs_background": "light"
     },
     "output_type": "display_data"
    }
   ],
   "source": [
    "plt.plot(colocals)"
   ]
  },
  {
   "cell_type": "code",
   "execution_count": null,
   "metadata": {},
   "outputs": [],
   "source": []
  }
 ],
 "metadata": {
  "kernelspec": {
   "display_name": "Python 3",
   "language": "python",
   "name": "python3"
  },
  "language_info": {
   "codemirror_mode": {
    "name": "ipython",
    "version": 3
   },
   "file_extension": ".py",
   "mimetype": "text/x-python",
   "name": "python",
   "nbconvert_exporter": "python",
   "pygments_lexer": "ipython3",
   "version": "3.8.8"
  }
 },
 "nbformat": 4,
 "nbformat_minor": 4
}
